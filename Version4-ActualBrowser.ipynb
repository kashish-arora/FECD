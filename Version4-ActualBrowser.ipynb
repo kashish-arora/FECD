{
 "cells": [
  {
   "cell_type": "code",
   "execution_count": null,
   "metadata": {
    "scrolled": true
   },
   "outputs": [
    {
     "name": "stdout",
     "output_type": "stream",
     "text": [
      "Awaiting Video Player\n",
      " * Serving Flask app \"__main__\" (lazy loading)\n",
      " * Environment: production\n",
      "   WARNING: This is a development server. Do not use it in a production deployment.\n",
      "   Use a production WSGI server instead.\n",
      " * Debug mode: off\n"
     ]
    },
    {
     "name": "stderr",
     "output_type": "stream",
     "text": [
      " * Running on http://127.0.0.1:5000/ (Press CTRL+C to quit)\n",
      "[debug] Encodings: locale UTF-8, fs utf-8, out UTF-8, pref UTF-8\n",
      "[debug] Encodings: locale UTF-8, fs utf-8, out UTF-8, pref UTF-8\n",
      "[debug] youtube-dl version 2021.04.17\n",
      "[debug] youtube-dl version 2021.04.17\n",
      "[debug] Python version 3.8.5 (CPython) - Linux-5.8.0-50-generic-x86_64-with-glibc2.29\n",
      "[debug] Python version 3.8.5 (CPython) - Linux-5.8.0-50-generic-x86_64-with-glibc2.29\n"
     ]
    },
    {
     "name": "stdout",
     "output_type": "stream",
     "text": [
      "7070\n",
      "New video player found\n",
      "New video player found\n",
      "Video Player found\n",
      "\n",
      "Video Player found\n"
     ]
    },
    {
     "name": "stderr",
     "output_type": "stream",
     "text": [
      "[debug] exe versions: none\n",
      "[debug] Proxy map: {}\n"
     ]
    },
    {
     "name": "stdout",
     "output_type": "stream",
     "text": [
      "[HellPorno] sweet-lesbians-are-having-a-wild-time-fisting-one-another: Downloading webpage\n"
     ]
    },
    {
     "name": "stderr",
     "output_type": "stream",
     "text": [
      "[debug] exe versions: none\n",
      "[debug] Proxy map: {}\n"
     ]
    },
    {
     "name": "stdout",
     "output_type": "stream",
     "text": [
      "[HellPorno] sweet-lesbians-are-having-a-wild-time-fisting-one-another: Downloading webpage\n"
     ]
    },
    {
     "name": "stderr",
     "output_type": "stream",
     "text": [
      "[debug] Default format spec: bestvideo+bestaudio/best\n",
      "[2021-05-01 13:08:50,786] ERROR in app: Exception on /send_url [POST]\n",
      "Traceback (most recent call last):\n",
      "  File \"/home/kashish/.local/lib/python3.8/site-packages/flask/app.py\", line 2447, in wsgi_app\n",
      "    response = self.full_dispatch_request()\n",
      "  File \"/home/kashish/.local/lib/python3.8/site-packages/flask/app.py\", line 1952, in full_dispatch_request\n",
      "    rv = self.handle_user_exception(e)\n",
      "  File \"/home/kashish/.local/lib/python3.8/site-packages/flask/app.py\", line 1821, in handle_user_exception\n",
      "    reraise(exc_type, exc_value, tb)\n",
      "  File \"/home/kashish/.local/lib/python3.8/site-packages/flask/_compat.py\", line 39, in reraise\n",
      "    raise value\n",
      "  File \"/home/kashish/.local/lib/python3.8/site-packages/flask/app.py\", line 1950, in full_dispatch_request\n",
      "    rv = self.dispatch_request()\n",
      "  File \"/home/kashish/.local/lib/python3.8/site-packages/flask/app.py\", line 1936, in dispatch_request\n",
      "    return self.view_functions[rule.endpoint](**req.view_args)\n",
      "  File \"<ipython-input-10-27c5089c6171>\", line 150, in send_url\n",
      "    predict()\n",
      "  File \"<ipython-input-10-27c5089c6171>\", line 80, in predict\n",
      "    print(str(x)+\" frames obtained successfully\")\n",
      "UnboundLocalError: local variable 'x' referenced before assignment\n",
      "127.0.0.1 - - [01/May/2021 13:08:50] \"\u001b[35m\u001b[1mPOST /send_url HTTP/1.1\u001b[0m\" 500 -\n",
      "[debug] Default format spec: bestvideo+bestaudio/best\n",
      "[2021-05-01 13:08:50,798] ERROR in app: Exception on /send_url [POST]\n",
      "Traceback (most recent call last):\n",
      "  File \"/home/kashish/.local/lib/python3.8/site-packages/flask/app.py\", line 2447, in wsgi_app\n",
      "    response = self.full_dispatch_request()\n",
      "  File \"/home/kashish/.local/lib/python3.8/site-packages/flask/app.py\", line 1952, in full_dispatch_request\n",
      "    rv = self.handle_user_exception(e)\n",
      "  File \"/home/kashish/.local/lib/python3.8/site-packages/flask/app.py\", line 1821, in handle_user_exception\n",
      "    reraise(exc_type, exc_value, tb)\n",
      "  File \"/home/kashish/.local/lib/python3.8/site-packages/flask/_compat.py\", line 39, in reraise\n",
      "    raise value\n",
      "  File \"/home/kashish/.local/lib/python3.8/site-packages/flask/app.py\", line 1950, in full_dispatch_request\n",
      "    rv = self.dispatch_request()\n",
      "  File \"/home/kashish/.local/lib/python3.8/site-packages/flask/app.py\", line 1936, in dispatch_request\n",
      "    return self.view_functions[rule.endpoint](**req.view_args)\n",
      "  File \"<ipython-input-10-27c5089c6171>\", line 150, in send_url\n",
      "    predict()\n",
      "  File \"<ipython-input-10-27c5089c6171>\", line 80, in predict\n",
      "    print(str(x)+\" frames obtained successfully\")\n",
      "UnboundLocalError: local variable 'x' referenced before assignment\n",
      "127.0.0.1 - - [01/May/2021 13:08:50] \"\u001b[35m\u001b[1mPOST /send_url HTTP/1.1\u001b[0m\" 500 -\n"
     ]
    },
    {
     "name": "stdout",
     "output_type": "stream",
     "text": [
      "Obtaining frames\n",
      "Obtaining frames\n"
     ]
    },
    {
     "name": "stderr",
     "output_type": "stream",
     "text": [
      "127.0.0.1 - - [01/May/2021 13:09:03] \"\u001b[37mGET /blur_player HTTP/1.1\u001b[0m\" 200 -\n",
      "127.0.0.1 - - [01/May/2021 13:09:03] \"\u001b[37mGET /blur_player HTTP/1.1\u001b[0m\" 200 -\n",
      "127.0.0.1 - - [01/May/2021 13:09:03] \"\u001b[37mGET /blur_player HTTP/1.1\u001b[0m\" 200 -\n",
      "127.0.0.1 - - [01/May/2021 13:09:03] \"\u001b[37mGET /blur_player HTTP/1.1\u001b[0m\" 200 -\n"
     ]
    },
    {
     "name": "stdout",
     "output_type": "stream",
     "text": [
      "[]\n",
      "[]\n",
      "[]\n",
      "[]\n"
     ]
    },
    {
     "name": "stderr",
     "output_type": "stream",
     "text": [
      "127.0.0.1 - - [01/May/2021 13:09:06] \"\u001b[37mGET /blur_player HTTP/1.1\u001b[0m\" 200 -\n"
     ]
    },
    {
     "name": "stdout",
     "output_type": "stream",
     "text": [
      "[]\n"
     ]
    },
    {
     "name": "stderr",
     "output_type": "stream",
     "text": [
      "127.0.0.1 - - [01/May/2021 13:09:21] \"\u001b[37mPOST /send_url HTTP/1.1\u001b[0m\" 200 -\n",
      "127.0.0.1 - - [01/May/2021 13:09:21] \"\u001b[37mPOST /send_url HTTP/1.1\u001b[0m\" 200 -\n"
     ]
    },
    {
     "name": "stdout",
     "output_type": "stream",
     "text": [
      "78\n",
      "78\n"
     ]
    },
    {
     "name": "stderr",
     "output_type": "stream",
     "text": [
      "[debug] Encodings: locale UTF-8, fs utf-8, out UTF-8, pref UTF-8\n",
      "[debug] youtube-dl version 2021.04.17\n",
      "[debug] Python version 3.8.5 (CPython) - Linux-5.8.0-50-generic-x86_64-with-glibc2.29\n"
     ]
    },
    {
     "name": "stdout",
     "output_type": "stream",
     "text": [
      "78\n",
      "New video player found\n",
      "Video Player found\n"
     ]
    },
    {
     "name": "stderr",
     "output_type": "stream",
     "text": [
      "[debug] exe versions: none\n",
      "[debug] Proxy map: {}\n"
     ]
    },
    {
     "name": "stdout",
     "output_type": "stream",
     "text": [
      "[HellPorno] sweet-lesbians-are-having-a-wild-time-fisting-one-another: Downloading webpage\n"
     ]
    },
    {
     "name": "stderr",
     "output_type": "stream",
     "text": [
      "127.0.0.1 - - [01/May/2021 13:09:23] \"\u001b[37mPOST /quit_url HTTP/1.1\u001b[0m\" 200 -\n",
      "127.0.0.1 - - [01/May/2021 13:09:23] \"\u001b[37mPOST /send_url HTTP/1.1\u001b[0m\" 200 -\n"
     ]
    },
    {
     "name": "stdout",
     "output_type": "stream",
     "text": [
      "Url closed: https://hellporno.com/videos/sweet-lesbians-are-having-a-wild-time-fisting-one-another/\n",
      "70\n"
     ]
    },
    {
     "name": "stderr",
     "output_type": "stream",
     "text": [
      "[debug] Default format spec: bestvideo+bestaudio/best\n",
      "[2021-05-01 13:09:24,183] ERROR in app: Exception on /send_url [POST]\n",
      "Traceback (most recent call last):\n",
      "  File \"/home/kashish/.local/lib/python3.8/site-packages/flask/app.py\", line 2447, in wsgi_app\n",
      "    response = self.full_dispatch_request()\n",
      "  File \"/home/kashish/.local/lib/python3.8/site-packages/flask/app.py\", line 1952, in full_dispatch_request\n",
      "    rv = self.handle_user_exception(e)\n",
      "  File \"/home/kashish/.local/lib/python3.8/site-packages/flask/app.py\", line 1821, in handle_user_exception\n",
      "    reraise(exc_type, exc_value, tb)\n",
      "  File \"/home/kashish/.local/lib/python3.8/site-packages/flask/_compat.py\", line 39, in reraise\n",
      "    raise value\n",
      "  File \"/home/kashish/.local/lib/python3.8/site-packages/flask/app.py\", line 1950, in full_dispatch_request\n",
      "    rv = self.dispatch_request()\n",
      "  File \"/home/kashish/.local/lib/python3.8/site-packages/flask/app.py\", line 1936, in dispatch_request\n",
      "    return self.view_functions[rule.endpoint](**req.view_args)\n",
      "  File \"<ipython-input-10-27c5089c6171>\", line 150, in send_url\n",
      "    predict()\n",
      "  File \"<ipython-input-10-27c5089c6171>\", line 80, in predict\n",
      "    print(str(x)+\" frames obtained successfully\")\n",
      "UnboundLocalError: local variable 'x' referenced before assignment\n",
      "127.0.0.1 - - [01/May/2021 13:09:24] \"\u001b[35m\u001b[1mPOST /send_url HTTP/1.1\u001b[0m\" 500 -\n"
     ]
    },
    {
     "name": "stdout",
     "output_type": "stream",
     "text": [
      "Obtaining frames\n"
     ]
    },
    {
     "name": "stderr",
     "output_type": "stream",
     "text": [
      "127.0.0.1 - - [01/May/2021 13:09:24] \"\u001b[37mPOST /send_url HTTP/1.1\u001b[0m\" 200 -\n"
     ]
    },
    {
     "name": "stdout",
     "output_type": "stream",
     "text": [
      "70\n"
     ]
    },
    {
     "name": "stderr",
     "output_type": "stream",
     "text": [
      "[debug] Encodings: locale UTF-8, fs utf-8, out UTF-8, pref UTF-8\n",
      "[debug] youtube-dl version 2021.04.17\n",
      "[debug] Encodings: locale UTF-8, fs utf-8, out UTF-8, pref UTF-8\n",
      "[debug] Encodings: locale UTF-8, fs utf-8, out UTF-8, pref UTF-8\n",
      "[debug] youtube-dl version 2021.04.17\n",
      "[debug] youtube-dl version 2021.04.17\n",
      "[debug] Python version 3.8.5 (CPython) - Linux-5.8.0-50-generic-x86_64-with-glibc2.29\n",
      "[debug] Python version 3.8.5 (CPython) - Linux-5.8.0-50-generic-x86_64-with-glibc2.29\n",
      "[debug] Python version 3.8.5 (CPython) - Linux-5.8.0-50-generic-x86_64-with-glibc2.29\n"
     ]
    },
    {
     "name": "stdout",
     "output_type": "stream",
     "text": [
      "70\n",
      "New video player found\n",
      "Video Player found\n",
      "70\n",
      "New video player found\n",
      "Video Player found\n",
      "70\n",
      "New video player found\n",
      "Video Player found\n"
     ]
    },
    {
     "name": "stderr",
     "output_type": "stream",
     "text": [
      "[debug] exe versions: none\n",
      "[debug] Proxy map: {}\n"
     ]
    },
    {
     "name": "stdout",
     "output_type": "stream",
     "text": [
      "[HellPorno] sweet-lesbians-are-having-a-wild-time-fisting-one-another: Downloading webpage\n"
     ]
    },
    {
     "name": "stderr",
     "output_type": "stream",
     "text": [
      "[debug] exe versions: none\n",
      "[debug] Proxy map: {}\n"
     ]
    },
    {
     "name": "stdout",
     "output_type": "stream",
     "text": [
      "[HellPorno] sweet-lesbians-are-having-a-wild-time-fisting-one-another: Downloading webpage\n"
     ]
    },
    {
     "name": "stderr",
     "output_type": "stream",
     "text": [
      "[debug] exe versions: none\n",
      "[debug] Proxy map: {}\n"
     ]
    },
    {
     "name": "stdout",
     "output_type": "stream",
     "text": [
      "[HellPorno] sweet-lesbians-are-having-a-wild-time-fisting-one-another: Downloading webpage\n"
     ]
    },
    {
     "name": "stderr",
     "output_type": "stream",
     "text": [
      "[debug] Default format spec: bestvideo+bestaudio/best\n",
      "[2021-05-01 13:09:28,472] ERROR in app: Exception on /send_url [POST]\n",
      "Traceback (most recent call last):\n",
      "  File \"/home/kashish/.local/lib/python3.8/site-packages/flask/app.py\", line 2447, in wsgi_app\n",
      "    response = self.full_dispatch_request()\n",
      "  File \"/home/kashish/.local/lib/python3.8/site-packages/flask/app.py\", line 1952, in full_dispatch_request\n",
      "    rv = self.handle_user_exception(e)\n",
      "  File \"/home/kashish/.local/lib/python3.8/site-packages/flask/app.py\", line 1821, in handle_user_exception\n",
      "    reraise(exc_type, exc_value, tb)\n",
      "  File \"/home/kashish/.local/lib/python3.8/site-packages/flask/_compat.py\", line 39, in reraise\n",
      "    raise value\n",
      "  File \"/home/kashish/.local/lib/python3.8/site-packages/flask/app.py\", line 1950, in full_dispatch_request\n",
      "    rv = self.dispatch_request()\n",
      "  File \"/home/kashish/.local/lib/python3.8/site-packages/flask/app.py\", line 1936, in dispatch_request\n",
      "    return self.view_functions[rule.endpoint](**req.view_args)\n",
      "  File \"<ipython-input-10-27c5089c6171>\", line 150, in send_url\n",
      "    predict()\n",
      "  File \"<ipython-input-10-27c5089c6171>\", line 80, in predict\n",
      "    print(str(x)+\" frames obtained successfully\")\n",
      "UnboundLocalError: local variable 'x' referenced before assignment\n",
      "127.0.0.1 - - [01/May/2021 13:09:28] \"\u001b[35m\u001b[1mPOST /send_url HTTP/1.1\u001b[0m\" 500 -\n",
      "[debug] Default format spec: bestvideo+bestaudio/best\n",
      "[2021-05-01 13:09:28,515] ERROR in app: Exception on /send_url [POST]\n",
      "Traceback (most recent call last):\n",
      "  File \"/home/kashish/.local/lib/python3.8/site-packages/flask/app.py\", line 2447, in wsgi_app\n",
      "    response = self.full_dispatch_request()\n",
      "  File \"/home/kashish/.local/lib/python3.8/site-packages/flask/app.py\", line 1952, in full_dispatch_request\n",
      "    rv = self.handle_user_exception(e)\n",
      "  File \"/home/kashish/.local/lib/python3.8/site-packages/flask/app.py\", line 1821, in handle_user_exception\n",
      "    reraise(exc_type, exc_value, tb)\n",
      "  File \"/home/kashish/.local/lib/python3.8/site-packages/flask/_compat.py\", line 39, in reraise\n",
      "    raise value\n",
      "  File \"/home/kashish/.local/lib/python3.8/site-packages/flask/app.py\", line 1950, in full_dispatch_request\n",
      "    rv = self.dispatch_request()\n",
      "  File \"/home/kashish/.local/lib/python3.8/site-packages/flask/app.py\", line 1936, in dispatch_request\n",
      "    return self.view_functions[rule.endpoint](**req.view_args)\n",
      "  File \"<ipython-input-10-27c5089c6171>\", line 150, in send_url\n",
      "    predict()\n",
      "  File \"<ipython-input-10-27c5089c6171>\", line 80, in predict\n",
      "    print(str(x)+\" frames obtained successfully\")\n",
      "UnboundLocalError: local variable 'x' referenced before assignment\n",
      "127.0.0.1 - - [01/May/2021 13:09:28] \"\u001b[35m\u001b[1mPOST /send_url HTTP/1.1\u001b[0m\" 500 -\n",
      "[debug] Default format spec: bestvideo+bestaudio/best\n",
      "[2021-05-01 13:09:28,532] ERROR in app: Exception on /send_url [POST]\n",
      "Traceback (most recent call last):\n",
      "  File \"/home/kashish/.local/lib/python3.8/site-packages/flask/app.py\", line 2447, in wsgi_app\n",
      "    response = self.full_dispatch_request()\n",
      "  File \"/home/kashish/.local/lib/python3.8/site-packages/flask/app.py\", line 1952, in full_dispatch_request\n",
      "    rv = self.handle_user_exception(e)\n",
      "  File \"/home/kashish/.local/lib/python3.8/site-packages/flask/app.py\", line 1821, in handle_user_exception\n",
      "    reraise(exc_type, exc_value, tb)\n",
      "  File \"/home/kashish/.local/lib/python3.8/site-packages/flask/_compat.py\", line 39, in reraise\n",
      "    raise value\n",
      "  File \"/home/kashish/.local/lib/python3.8/site-packages/flask/app.py\", line 1950, in full_dispatch_request\n",
      "    rv = self.dispatch_request()\n",
      "  File \"/home/kashish/.local/lib/python3.8/site-packages/flask/app.py\", line 1936, in dispatch_request\n",
      "    return self.view_functions[rule.endpoint](**req.view_args)\n",
      "  File \"<ipython-input-10-27c5089c6171>\", line 150, in send_url\n",
      "    predict()\n",
      "  File \"<ipython-input-10-27c5089c6171>\", line 80, in predict\n",
      "    print(str(x)+\" frames obtained successfully\")\n",
      "UnboundLocalError: local variable 'x' referenced before assignment\n",
      "127.0.0.1 - - [01/May/2021 13:09:28] \"\u001b[35m\u001b[1mPOST /send_url HTTP/1.1\u001b[0m\" 500 -\n"
     ]
    },
    {
     "name": "stdout",
     "output_type": "stream",
     "text": [
      "Obtaining frames\n",
      "Obtaining frames\n",
      "Obtaining frames\n"
     ]
    },
    {
     "name": "stderr",
     "output_type": "stream",
     "text": [
      "127.0.0.1 - - [01/May/2021 13:09:36] \"\u001b[37mGET /blur_player HTTP/1.1\u001b[0m\" 200 -\n",
      "127.0.0.1 - - [01/May/2021 13:09:36] \"\u001b[37mGET /blur_player HTTP/1.1\u001b[0m\" 200 -\n"
     ]
    },
    {
     "name": "stdout",
     "output_type": "stream",
     "text": [
      "[]\n",
      "[]\n"
     ]
    },
    {
     "name": "stderr",
     "output_type": "stream",
     "text": [
      "127.0.0.1 - - [01/May/2021 13:09:37] \"\u001b[37mGET /blur_player HTTP/1.1\u001b[0m\" 200 -\n",
      "127.0.0.1 - - [01/May/2021 13:09:37] \"\u001b[37mGET /blur_player HTTP/1.1\u001b[0m\" 200 -\n",
      "127.0.0.1 - - [01/May/2021 13:09:37] \"\u001b[37mGET /blur_player HTTP/1.1\u001b[0m\" 200 -\n"
     ]
    },
    {
     "name": "stdout",
     "output_type": "stream",
     "text": [
      "[]\n",
      "[]\n",
      "[]\n"
     ]
    },
    {
     "name": "stderr",
     "output_type": "stream",
     "text": [
      "127.0.0.1 - - [01/May/2021 13:09:38] \"\u001b[37mGET /blur_player HTTP/1.1\u001b[0m\" 200 -\n"
     ]
    },
    {
     "name": "stdout",
     "output_type": "stream",
     "text": [
      "[]\n"
     ]
    },
    {
     "name": "stderr",
     "output_type": "stream",
     "text": [
      "127.0.0.1 - - [01/May/2021 13:09:38] \"\u001b[37mGET /blur_player HTTP/1.1\u001b[0m\" 200 -\n"
     ]
    },
    {
     "name": "stdout",
     "output_type": "stream",
     "text": [
      "[]\n"
     ]
    },
    {
     "name": "stderr",
     "output_type": "stream",
     "text": [
      "127.0.0.1 - - [01/May/2021 13:09:39] \"\u001b[37mGET /blur_player HTTP/1.1\u001b[0m\" 200 -\n",
      "127.0.0.1 - - [01/May/2021 13:09:39] \"\u001b[37mGET /blur_player HTTP/1.1\u001b[0m\" 200 -\n"
     ]
    },
    {
     "name": "stdout",
     "output_type": "stream",
     "text": [
      "[]\n",
      "[]\n"
     ]
    },
    {
     "name": "stderr",
     "output_type": "stream",
     "text": [
      "127.0.0.1 - - [01/May/2021 13:09:41] \"\u001b[37mGET /blur_player HTTP/1.1\u001b[0m\" 200 -\n",
      "127.0.0.1 - - [01/May/2021 13:09:41] \"\u001b[37mGET /blur_player HTTP/1.1\u001b[0m\" 200 -\n",
      "127.0.0.1 - - [01/May/2021 13:09:41] \"\u001b[37mGET /blur_player HTTP/1.1\u001b[0m\" 200 -\n",
      "127.0.0.1 - - [01/May/2021 13:09:41] \"\u001b[37mGET /blur_player HTTP/1.1\u001b[0m\" 200 -\n",
      "127.0.0.1 - - [01/May/2021 13:09:41] \"\u001b[37mGET /blur_player HTTP/1.1\u001b[0m\" 200 -\n"
     ]
    },
    {
     "name": "stdout",
     "output_type": "stream",
     "text": [
      "[]\n",
      "[]\n",
      "[]\n",
      "[]\n",
      "[]\n"
     ]
    },
    {
     "name": "stderr",
     "output_type": "stream",
     "text": [
      "127.0.0.1 - - [01/May/2021 13:09:44] \"\u001b[37mGET /blur_player HTTP/1.1\u001b[0m\" 200 -\n"
     ]
    },
    {
     "name": "stdout",
     "output_type": "stream",
     "text": [
      "[]\n"
     ]
    },
    {
     "name": "stderr",
     "output_type": "stream",
     "text": [
      "127.0.0.1 - - [01/May/2021 13:09:49] \"\u001b[37mPOST /quit_url HTTP/1.1\u001b[0m\" 200 -\n",
      "[debug] Encodings: locale UTF-8, fs utf-8, out UTF-8, pref UTF-8\n",
      "[debug] youtube-dl version 2021.04.17\n",
      "[debug] Python version 3.8.5 (CPython) - Linux-5.8.0-50-generic-x86_64-with-glibc2.29\n"
     ]
    },
    {
     "name": "stdout",
     "output_type": "stream",
     "text": [
      "Url closed: https://hellporno.com/videos/sweet-lesbians-are-having-a-wild-time-fisting-one-another/\n",
      "56\n",
      "New video player found\n",
      "Video Player found\n"
     ]
    },
    {
     "name": "stderr",
     "output_type": "stream",
     "text": [
      "[debug] exe versions: none\n",
      "[debug] Proxy map: {}\n"
     ]
    },
    {
     "name": "stdout",
     "output_type": "stream",
     "text": [
      "[youtube] WuMWwPHTSoY: Downloading webpage\n"
     ]
    },
    {
     "name": "stderr",
     "output_type": "stream",
     "text": [
      "[debug] Default format spec: bestvideo+bestaudio/best\n"
     ]
    },
    {
     "name": "stdout",
     "output_type": "stream",
     "text": [
      "Obtaining frames\n",
      "13 frames obtained successfully\n",
      "Running Prediction Model\n",
      "WARNING:tensorflow:5 out of the last 11 calls to <function Model.make_predict_function.<locals>.predict_function at 0x7f0aa789bb80> triggered tf.function retracing. Tracing is expensive and the excessive number of tracings could be due to (1) creating @tf.function repeatedly in a loop, (2) passing tensors with different shapes, (3) passing Python objects instead of tensors. For (1), please define your @tf.function outside of the loop. For (2), @tf.function has experimental_relax_shapes=True option that relaxes argument shapes that can avoid unnecessary retracing. For (3), please refer to https://www.tensorflow.org/guide/function#controlling_retracing and https://www.tensorflow.org/api_docs/python/tf/function for  more details.\n"
     ]
    },
    {
     "name": "stderr",
     "output_type": "stream",
     "text": [
      "[2021-05-01 13:10:01,575] ERROR in app: Exception on /send_url [POST]\n",
      "Traceback (most recent call last):\n",
      "  File \"/home/kashish/.local/lib/python3.8/site-packages/flask/app.py\", line 2447, in wsgi_app\n",
      "    response = self.full_dispatch_request()\n",
      "  File \"/home/kashish/.local/lib/python3.8/site-packages/flask/app.py\", line 1953, in full_dispatch_request\n",
      "    return self.finalize_request(rv)\n",
      "  File \"/home/kashish/.local/lib/python3.8/site-packages/flask/app.py\", line 1968, in finalize_request\n",
      "    response = self.make_response(rv)\n",
      "  File \"/home/kashish/.local/lib/python3.8/site-packages/flask/app.py\", line 2097, in make_response\n",
      "    raise TypeError(\n",
      "TypeError: The view function did not return a valid response. The function either returned None or ended without a return statement.\n",
      "127.0.0.1 - - [01/May/2021 13:10:01] \"\u001b[35m\u001b[1mPOST /send_url HTTP/1.1\u001b[0m\" 500 -\n"
     ]
    },
    {
     "name": "stdout",
     "output_type": "stream",
     "text": [
      "Predicted to be of type 0 in 11.688 seconds\n",
      "...for https://r6---sn-gwpa-a3v6.googlevideo.com/videoplayback?expire=1619876390&ei=xgWNYNyMKJHz4-EPn92C4AE&ip=2405%3A201%3A5003%3Ab03b%3A80cd%3Af8f7%3A49a4%3Abda7&id=o-AJWBNt7r949rfx5VDOhWWPFRW8du3C77ZwxMhlvAGSr1&itag=160&aitags=133%2C134%2C135%2C136%2C137%2C160%2C242%2C243%2C244%2C247%2C248%2C278%2C394%2C395%2C396%2C397%2C398%2C399&source=youtube&requiressl=yes&mh=BZ&mm=31%2C29&mn=sn-gwpa-a3v6%2Csn-qxa7sn7s&ms=au%2Crdu&mv=m&mvi=6&pl=47&initcwndbps=750000&vprv=1&mime=video%2Fmp4&ns=V3ipkf1QsU5R_Y4gWiLjI0AF&gir=yes&clen=2321585&dur=203.800&lmt=1585370850903774&mt=1619854604&fvip=6&keepalive=yes&fexp=24001373%2C24007246&c=WEB&txp=5511222&n=qceH335kaJ0QdUbGtNy&sparams=expire%2Cei%2Cip%2Cid%2Caitags%2Csource%2Crequiressl%2Cvprv%2Cmime%2Cns%2Cgir%2Cclen%2Cdur%2Clmt&lsparams=mh%2Cmm%2Cmn%2Cms%2Cmv%2Cmvi%2Cpl%2Cinitcwndbps&lsig=AG3C_xAwRQIgIMzMTTfQ3hRi9qaN0lHZI-3GEWUVCtiB2cv7-P1YnggCIQDqQiL__GrsnnY7y9WpNIxoNfw2whSc18KZzxIarjjQWg%3D%3D&sig=AOq0QJ8wRQIgCgiTiyEWPrh8zQoE2_L23ddxpkeYihAev4U6ng812dgCIQCg7AmfO7H-UmLmXdiC57ESs4quRVtHYKeLK2Cr1XX9bA==\n"
     ]
    },
    {
     "name": "stderr",
     "output_type": "stream",
     "text": [
      "127.0.0.1 - - [01/May/2021 13:10:04] \"\u001b[37mGET /blur_player HTTP/1.1\u001b[0m\" 200 -\n"
     ]
    },
    {
     "name": "stdout",
     "output_type": "stream",
     "text": [
      "['70']\n"
     ]
    },
    {
     "name": "stderr",
     "output_type": "stream",
     "text": [
      "127.0.0.1 - - [01/May/2021 14:56:58] \"\u001b[37mGET /blur_player HTTP/1.1\u001b[0m\" 200 -\n"
     ]
    },
    {
     "name": "stdout",
     "output_type": "stream",
     "text": [
      "[]\n"
     ]
    },
    {
     "name": "stderr",
     "output_type": "stream",
     "text": [
      "127.0.0.1 - - [01/May/2021 14:57:20] \"\u001b[37mPOST /send_url HTTP/1.1\u001b[0m\" 200 -\n",
      "127.0.0.1 - - [01/May/2021 14:57:20] \"\u001b[37mPOST /send_url HTTP/1.1\u001b[0m\" 200 -\n"
     ]
    },
    {
     "name": "stdout",
     "output_type": "stream",
     "text": [
      "85\n",
      "85\n"
     ]
    },
    {
     "name": "stderr",
     "output_type": "stream",
     "text": [
      "127.0.0.1 - - [01/May/2021 14:57:24] \"\u001b[37mPOST /send_url HTTP/1.1\u001b[0m\" 200 -\n"
     ]
    },
    {
     "name": "stdout",
     "output_type": "stream",
     "text": [
      "85\n"
     ]
    },
    {
     "name": "stderr",
     "output_type": "stream",
     "text": [
      "127.0.0.1 - - [01/May/2021 14:57:35] \"\u001b[37mGET /blur_player HTTP/1.1\u001b[0m\" 200 -\n",
      "127.0.0.1 - - [01/May/2021 14:57:35] \"\u001b[37mGET /blur_player HTTP/1.1\u001b[0m\" 200 -\n",
      "127.0.0.1 - - [01/May/2021 14:57:35] \"\u001b[37mGET /blur_player HTTP/1.1\u001b[0m\" 200 -\n"
     ]
    },
    {
     "name": "stdout",
     "output_type": "stream",
     "text": [
      "[]\n",
      "[]\n",
      "[]\n"
     ]
    },
    {
     "name": "stderr",
     "output_type": "stream",
     "text": [
      "127.0.0.1 - - [01/May/2021 14:57:37] \"\u001b[37mPOST /send_url HTTP/1.1\u001b[0m\" 200 -\n"
     ]
    },
    {
     "name": "stdout",
     "output_type": "stream",
     "text": [
      "85\n"
     ]
    },
    {
     "name": "stderr",
     "output_type": "stream",
     "text": [
      "127.0.0.1 - - [01/May/2021 14:57:39] \"\u001b[37mGET /blur_player HTTP/1.1\u001b[0m\" 200 -\n",
      "127.0.0.1 - - [01/May/2021 14:57:39] \"\u001b[37mGET /blur_player HTTP/1.1\u001b[0m\" 200 -\n"
     ]
    },
    {
     "name": "stdout",
     "output_type": "stream",
     "text": [
      "[]\n",
      "[]\n"
     ]
    },
    {
     "name": "stderr",
     "output_type": "stream",
     "text": [
      "127.0.0.1 - - [01/May/2021 14:57:47] \"\u001b[37mGET /blur_player HTTP/1.1\u001b[0m\" 200 -\n"
     ]
    },
    {
     "name": "stdout",
     "output_type": "stream",
     "text": [
      "[]\n"
     ]
    },
    {
     "name": "stderr",
     "output_type": "stream",
     "text": [
      "127.0.0.1 - - [01/May/2021 14:57:47] \"\u001b[37mGET /blur_player HTTP/1.1\u001b[0m\" 200 -\n"
     ]
    },
    {
     "name": "stdout",
     "output_type": "stream",
     "text": [
      "[]\n"
     ]
    },
    {
     "name": "stderr",
     "output_type": "stream",
     "text": [
      "127.0.0.1 - - [01/May/2021 14:57:50] \"\u001b[37mPOST /send_url HTTP/1.1\u001b[0m\" 200 -\n"
     ]
    },
    {
     "name": "stdout",
     "output_type": "stream",
     "text": [
      "ReservedFligh&pid=0,85\n"
     ]
    },
    {
     "name": "stderr",
     "output_type": "stream",
     "text": [
      "127.0.0.1 - - [01/May/2021 14:57:50] \"\u001b[37mPOST /send_url HTTP/1.1\u001b[0m\" 200 -\n"
     ]
    },
    {
     "name": "stdout",
     "output_type": "stream",
     "text": [
      "85\n"
     ]
    },
    {
     "name": "stderr",
     "output_type": "stream",
     "text": [
      "127.0.0.1 - - [01/May/2021 14:57:52] \"\u001b[37mGET /blur_player HTTP/1.1\u001b[0m\" 200 -\n",
      "127.0.0.1 - - [01/May/2021 14:57:52] \"\u001b[37mGET /blur_player HTTP/1.1\u001b[0m\" 200 -\n"
     ]
    },
    {
     "name": "stdout",
     "output_type": "stream",
     "text": [
      "[]\n",
      "[]\n"
     ]
    },
    {
     "name": "stderr",
     "output_type": "stream",
     "text": [
      "127.0.0.1 - - [01/May/2021 14:57:53] \"\u001b[37mGET /blur_player HTTP/1.1\u001b[0m\" 200 -\n",
      "127.0.0.1 - - [01/May/2021 14:57:53] \"\u001b[37mGET /blur_player HTTP/1.1\u001b[0m\" 200 -\n",
      "127.0.0.1 - - [01/May/2021 14:57:53] \"\u001b[37mGET /blur_player HTTP/1.1\u001b[0m\" 200 -\n"
     ]
    },
    {
     "name": "stdout",
     "output_type": "stream",
     "text": [
      "[]\n",
      "[]\n",
      "[]\n"
     ]
    },
    {
     "name": "stderr",
     "output_type": "stream",
     "text": [
      "127.0.0.1 - - [01/May/2021 14:57:54] \"\u001b[37mGET /blur_player HTTP/1.1\u001b[0m\" 200 -\n"
     ]
    },
    {
     "name": "stdout",
     "output_type": "stream",
     "text": [
      "[]\n"
     ]
    },
    {
     "name": "stderr",
     "output_type": "stream",
     "text": [
      "127.0.0.1 - - [01/May/2021 14:57:54] \"\u001b[37mPOST /send_url HTTP/1.1\u001b[0m\" 200 -\n"
     ]
    },
    {
     "name": "stdout",
     "output_type": "stream",
     "text": [
      "85\n"
     ]
    },
    {
     "name": "stderr",
     "output_type": "stream",
     "text": [
      "127.0.0.1 - - [01/May/2021 14:57:55] \"\u001b[37mPOST /send_url HTTP/1.1\u001b[0m\" 200 -\n"
     ]
    },
    {
     "name": "stdout",
     "output_type": "stream",
     "text": [
      "85\n"
     ]
    },
    {
     "name": "stderr",
     "output_type": "stream",
     "text": [
      "127.0.0.1 - - [01/May/2021 14:57:59] \"\u001b[37mGET /blur_player HTTP/1.1\u001b[0m\" 200 -\n",
      "127.0.0.1 - - [01/May/2021 14:57:59] \"\u001b[37mGET /blur_player HTTP/1.1\u001b[0m\" 200 -\n"
     ]
    },
    {
     "name": "stdout",
     "output_type": "stream",
     "text": [
      "[]\n",
      "[]\n"
     ]
    },
    {
     "name": "stderr",
     "output_type": "stream",
     "text": [
      "127.0.0.1 - - [01/May/2021 14:58:00] \"\u001b[37mPOST /send_url HTTP/1.1\u001b[0m\" 200 -\n"
     ]
    },
    {
     "name": "stdout",
     "output_type": "stream",
     "text": [
      "85\n"
     ]
    },
    {
     "name": "stderr",
     "output_type": "stream",
     "text": [
      "127.0.0.1 - - [01/May/2021 14:58:01] \"\u001b[37mPOST /send_url HTTP/1.1\u001b[0m\" 200 -\n"
     ]
    },
    {
     "name": "stdout",
     "output_type": "stream",
     "text": [
      "85\n"
     ]
    },
    {
     "name": "stderr",
     "output_type": "stream",
     "text": [
      "127.0.0.1 - - [01/May/2021 14:58:02] \"\u001b[37mPOST /send_url HTTP/1.1\u001b[0m\" 200 -\n"
     ]
    },
    {
     "name": "stdout",
     "output_type": "stream",
     "text": [
      "85\n"
     ]
    },
    {
     "name": "stderr",
     "output_type": "stream",
     "text": [
      "127.0.0.1 - - [01/May/2021 14:58:03] \"\u001b[37mPOST /send_url HTTP/1.1\u001b[0m\" 200 -\n"
     ]
    },
    {
     "name": "stdout",
     "output_type": "stream",
     "text": [
      "85\n"
     ]
    },
    {
     "name": "stderr",
     "output_type": "stream",
     "text": [
      "127.0.0.1 - - [01/May/2021 14:58:05] \"\u001b[37mGET /blur_player HTTP/1.1\u001b[0m\" 200 -\n",
      "127.0.0.1 - - [01/May/2021 14:58:05] \"\u001b[37mGET /blur_player HTTP/1.1\u001b[0m\" 200 -\n",
      "127.0.0.1 - - [01/May/2021 14:58:05] \"\u001b[37mGET /blur_player HTTP/1.1\u001b[0m\" 200 -\n"
     ]
    },
    {
     "name": "stdout",
     "output_type": "stream",
     "text": [
      "[]\n",
      "[]\n",
      "[]\n"
     ]
    },
    {
     "name": "stderr",
     "output_type": "stream",
     "text": [
      "127.0.0.1 - - [01/May/2021 14:58:05] \"\u001b[37mGET /blur_player HTTP/1.1\u001b[0m\" 200 -\n",
      "127.0.0.1 - - [01/May/2021 14:58:05] \"\u001b[37mGET /blur_player HTTP/1.1\u001b[0m\" 200 -\n"
     ]
    },
    {
     "name": "stdout",
     "output_type": "stream",
     "text": [
      "[]\n",
      "[]\n"
     ]
    },
    {
     "name": "stderr",
     "output_type": "stream",
     "text": [
      "127.0.0.1 - - [01/May/2021 14:58:06] \"\u001b[37mGET /blur_player HTTP/1.1\u001b[0m\" 200 -\n",
      "127.0.0.1 - - [01/May/2021 14:58:06] \"\u001b[37mGET /blur_player HTTP/1.1\u001b[0m\" 200 -\n"
     ]
    },
    {
     "name": "stdout",
     "output_type": "stream",
     "text": [
      "[]\n",
      "[]\n"
     ]
    },
    {
     "name": "stderr",
     "output_type": "stream",
     "text": [
      "127.0.0.1 - - [01/May/2021 14:58:09] \"\u001b[37mGET /blur_player HTTP/1.1\u001b[0m\" 200 -\n",
      "127.0.0.1 - - [01/May/2021 14:58:09] \"\u001b[37mGET /blur_player HTTP/1.1\u001b[0m\" 200 -\n",
      "127.0.0.1 - - [01/May/2021 14:58:09] \"\u001b[37mGET /blur_player HTTP/1.1\u001b[0m\" 200 -\n"
     ]
    },
    {
     "name": "stdout",
     "output_type": "stream",
     "text": [
      "[]\n",
      "[]\n",
      "[]\n"
     ]
    },
    {
     "name": "stderr",
     "output_type": "stream",
     "text": [
      "127.0.0.1 - - [01/May/2021 14:58:10] \"\u001b[37mGET /blur_player HTTP/1.1\u001b[0m\" 200 -\n",
      "127.0.0.1 - - [01/May/2021 14:58:10] \"\u001b[37mGET /blur_player HTTP/1.1\u001b[0m\" 200 -\n"
     ]
    },
    {
     "name": "stdout",
     "output_type": "stream",
     "text": [
      "[]\n",
      "[]\n"
     ]
    },
    {
     "name": "stderr",
     "output_type": "stream",
     "text": [
      "127.0.0.1 - - [01/May/2021 14:58:10] \"\u001b[37mGET /blur_player HTTP/1.1\u001b[0m\" 200 -\n",
      "127.0.0.1 - - [01/May/2021 14:58:10] \"\u001b[37mGET /blur_player HTTP/1.1\u001b[0m\" 200 -\n"
     ]
    },
    {
     "name": "stdout",
     "output_type": "stream",
     "text": [
      "[]\n",
      "[]\n"
     ]
    },
    {
     "name": "stderr",
     "output_type": "stream",
     "text": [
      "127.0.0.1 - - [01/May/2021 14:58:12] \"\u001b[37mGET /blur_player HTTP/1.1\u001b[0m\" 200 -\n"
     ]
    },
    {
     "name": "stdout",
     "output_type": "stream",
     "text": [
      "[]\n"
     ]
    },
    {
     "name": "stderr",
     "output_type": "stream",
     "text": [
      "127.0.0.1 - - [01/May/2021 14:58:15] \"\u001b[37mGET /blur_player HTTP/1.1\u001b[0m\" 200 -\n",
      "127.0.0.1 - - [01/May/2021 14:58:15] \"\u001b[37mGET /blur_player HTTP/1.1\u001b[0m\" 200 -\n",
      "127.0.0.1 - - [01/May/2021 14:58:15] \"\u001b[37mGET /blur_player HTTP/1.1\u001b[0m\" 200 -\n"
     ]
    },
    {
     "name": "stdout",
     "output_type": "stream",
     "text": [
      "[]\n",
      "[]\n",
      "[]\n"
     ]
    },
    {
     "name": "stderr",
     "output_type": "stream",
     "text": [
      "127.0.0.1 - - [01/May/2021 14:58:16] \"\u001b[37mGET /blur_player HTTP/1.1\u001b[0m\" 200 -\n",
      "127.0.0.1 - - [01/May/2021 14:58:16] \"\u001b[37mGET /blur_player HTTP/1.1\u001b[0m\" 200 -\n"
     ]
    },
    {
     "name": "stdout",
     "output_type": "stream",
     "text": [
      "[]\n",
      "[]\n"
     ]
    },
    {
     "name": "stderr",
     "output_type": "stream",
     "text": [
      "127.0.0.1 - - [01/May/2021 14:58:17] \"\u001b[37mGET /blur_player HTTP/1.1\u001b[0m\" 200 -\n",
      "127.0.0.1 - - [01/May/2021 14:58:17] \"\u001b[37mGET /blur_player HTTP/1.1\u001b[0m\" 200 -\n"
     ]
    },
    {
     "name": "stdout",
     "output_type": "stream",
     "text": [
      "[]\n",
      "[]\n"
     ]
    },
    {
     "name": "stderr",
     "output_type": "stream",
     "text": [
      "127.0.0.1 - - [01/May/2021 14:58:18] \"\u001b[37mGET /blur_player HTTP/1.1\u001b[0m\" 200 -\n",
      "127.0.0.1 - - [01/May/2021 14:58:18] \"\u001b[37mGET /blur_player HTTP/1.1\u001b[0m\" 200 -\n"
     ]
    },
    {
     "name": "stdout",
     "output_type": "stream",
     "text": [
      "[]\n",
      "[]\n"
     ]
    },
    {
     "name": "stderr",
     "output_type": "stream",
     "text": [
      "127.0.0.1 - - [01/May/2021 14:58:20] \"\u001b[37mGET /blur_player HTTP/1.1\u001b[0m\" 200 -\n",
      "127.0.0.1 - - [01/May/2021 14:58:20] \"\u001b[37mGET /blur_player HTTP/1.1\u001b[0m\" 200 -\n"
     ]
    },
    {
     "name": "stdout",
     "output_type": "stream",
     "text": [
      "[]\n",
      "[]\n"
     ]
    },
    {
     "name": "stderr",
     "output_type": "stream",
     "text": [
      "127.0.0.1 - - [01/May/2021 14:58:27] \"\u001b[37mPOST /quit_url HTTP/1.1\u001b[0m\" 200 -\n",
      "[debug] Encodings: locale UTF-8, fs utf-8, out UTF-8, pref UTF-8\n",
      "[debug] youtube-dl version 2021.04.17\n",
      "[debug] Python version 3.8.5 (CPython) - Linux-5.8.0-50-generic-x86_64-with-glibc2.29\n"
     ]
    },
    {
     "name": "stdout",
     "output_type": "stream",
     "text": [
      "Url closed: https://web.skype.com/\n",
      "56\n",
      "New video player found\n",
      "Video Player found\n"
     ]
    },
    {
     "name": "stderr",
     "output_type": "stream",
     "text": [
      "[debug] exe versions: none\n",
      "[debug] Proxy map: {}\n"
     ]
    },
    {
     "name": "stdout",
     "output_type": "stream",
     "text": [
      "[youtube] WuMWwPHTSoY: Downloading webpage\n"
     ]
    },
    {
     "name": "stderr",
     "output_type": "stream",
     "text": [
      "[debug] Default format spec: bestvideo+bestaudio/best\n"
     ]
    },
    {
     "name": "stdout",
     "output_type": "stream",
     "text": [
      "Obtaining frames\n",
      "13 frames obtained successfully\n",
      "Running Prediction Model\n"
     ]
    },
    {
     "name": "stderr",
     "output_type": "stream",
     "text": [
      "127.0.0.1 - - [01/May/2021 14:58:42] \"\u001b[37mGET /blur_player HTTP/1.1\u001b[0m\" 200 -\n"
     ]
    },
    {
     "name": "stdout",
     "output_type": "stream",
     "text": [
      "[]\n"
     ]
    },
    {
     "name": "stderr",
     "output_type": "stream",
     "text": [
      "[2021-05-01 14:58:42,875] ERROR in app: Exception on /send_url [POST]\n",
      "Traceback (most recent call last):\n",
      "  File \"/home/kashish/.local/lib/python3.8/site-packages/flask/app.py\", line 2447, in wsgi_app\n",
      "    response = self.full_dispatch_request()\n",
      "  File \"/home/kashish/.local/lib/python3.8/site-packages/flask/app.py\", line 1953, in full_dispatch_request\n",
      "    return self.finalize_request(rv)\n",
      "  File \"/home/kashish/.local/lib/python3.8/site-packages/flask/app.py\", line 1968, in finalize_request\n",
      "    response = self.make_response(rv)\n",
      "  File \"/home/kashish/.local/lib/python3.8/site-packages/flask/app.py\", line 2097, in make_response\n",
      "    raise TypeError(\n",
      "TypeError: The view function did not return a valid response. The function either returned None or ended without a return statement.\n",
      "127.0.0.1 - - [01/May/2021 14:58:42] \"\u001b[35m\u001b[1mPOST /send_url HTTP/1.1\u001b[0m\" 500 -\n"
     ]
    },
    {
     "name": "stdout",
     "output_type": "stream",
     "text": [
      "Predicted to be of type 0 in 15.596 seconds\n",
      "...for https://r6---sn-gwpa-a3v6.googlevideo.com/videoplayback?expire=1619882913&ei=QB-NYO3nOsWR3LUPxZe_2AY&ip=2405%3A201%3A5003%3Ab03b%3A80cd%3Af8f7%3A49a4%3Abda7&id=o-ALlT3RxT-IvX6KslDK8oVA4ga5FTMB3ru4aFKsJYCZfz&itag=160&aitags=133%2C134%2C135%2C136%2C137%2C160%2C242%2C243%2C244%2C247%2C248%2C278%2C394%2C395%2C396%2C397%2C398%2C399&source=youtube&requiressl=yes&mh=BZ&mm=31%2C29&mn=sn-gwpa-a3v6%2Csn-qxa7sn7s&ms=au%2Crdu&mv=m&mvi=6&pl=47&initcwndbps=652500&vprv=1&mime=video%2Fmp4&ns=vjVCAbTYrWH2XE3Qy43DF6wF&gir=yes&clen=2321585&dur=203.800&lmt=1585370850903774&mt=1619861098&fvip=6&keepalive=yes&fexp=24001373%2C24007246&c=WEB&txp=5511222&n=0iD0WsI_C9bxGrXqUNd&sparams=expire%2Cei%2Cip%2Cid%2Caitags%2Csource%2Crequiressl%2Cvprv%2Cmime%2Cns%2Cgir%2Cclen%2Cdur%2Clmt&lsparams=mh%2Cmm%2Cmn%2Cms%2Cmv%2Cmvi%2Cpl%2Cinitcwndbps&lsig=AG3C_xAwRAIgd667_4L09-QnAlvFhUIFV5vuawTbnxIUvLyo_r_Ak44CIEZ-00uhNyMe_Mlxg2HZtr5A2VKyMxCDFZzUkepC88pY&sig=AOq0QJ8wRgIhANlN-0pOKxELfrKYzvX2l449HXkAJr2WIh0iOFOJtiUMAiEAqIwDsnhOG4jLEQVTMd3h4gIAPHXjDBHyNMXprPeuzXg=\n"
     ]
    },
    {
     "name": "stderr",
     "output_type": "stream",
     "text": [
      "127.0.0.1 - - [01/May/2021 14:58:59] \"\u001b[37mGET /blur_player HTTP/1.1\u001b[0m\" 200 -\n"
     ]
    },
    {
     "name": "stdout",
     "output_type": "stream",
     "text": [
      "['70']\n"
     ]
    }
   ],
   "source": [
    "import tkinter as tk\n",
    "from tkinter import filedialog\n",
    "from tkinter import *\n",
    "from PIL import ImageTk, Image\n",
    "import numpy as np\n",
    "from tensorflow.keras.models import load_model\n",
    "import cv2\n",
    "import os, shutil\n",
    "from glob import glob\n",
    "import math\n",
    "import tqdm\n",
    "import tensorflowjs as tfjs\n",
    "import numpy\n",
    "from tensorflow.keras.preprocessing import image\n",
    "from sklearn.metrics import accuracy_score\n",
    "import sys\n",
    "from tensorflow.keras.applications import EfficientNetB0\n",
    "import efficientnet.keras as efn\n",
    "import re\n",
    "import youtube_dl\n",
    "from flask import Flask, jsonify, request\n",
    "import time\n",
    "import pyautogui\n",
    "import copy\n",
    "\n",
    "app=Flask(__name__)\n",
    "model=load_model(r'/home/kashish/Desktop/Kashish/Projects/FECD/model/NPDIv3fullofull.12-0.17.h5')\n",
    "saved_url=\"\"\n",
    "url_queue=[]\n",
    "tab_queue=[]\n",
    "flag_queue=[]\n",
    "print(\"Awaiting Video Player\")\n",
    "\n",
    "def url_changed(saved_url):\n",
    "    wait.until(\n",
    "        lambda driver: driver.current_url!=saved_url)\n",
    "    return True;\n",
    "\n",
    "def url_strip(url):\n",
    "    if \"http://\" in url or \"https://\" in url:\n",
    "        url = url.replace(\"https://\", '').replace(\"http://\", '').replace('\\\"', '')\n",
    "    if \"/\" in url:\n",
    "        url = url.split('/', 1)[0]\n",
    "    return url\n",
    "\n",
    "def predict():\n",
    "    while len(url_queue):\n",
    "        video_url=url_queue.pop(0)\n",
    "        prediction_images=[]\n",
    "        print(\"Video Player found\")\n",
    "        start = time.time()\n",
    "        ydl_opts={'verbose':True}\n",
    "        ydl=youtube_dl.YoutubeDL(ydl_opts)\n",
    "        info_dict=ydl.extract_info(video_url, download=False)\n",
    "        vid_len=info_dict['duration']\n",
    "        formats=info_dict.get('formats',None)\n",
    "        print(\"Obtaining frames\")\n",
    "        for f in formats:\n",
    "            if f.get('format_note',None) == '144p':\n",
    "                url = f.get('url',None)\n",
    "                cap = cv2.VideoCapture(url)\n",
    "                if not cap.isOpened():\n",
    "                    print('video not opened')\n",
    "                    exit(-1)\n",
    "                x=0\n",
    "                count=30\n",
    "                while count<=vid_len*30:\n",
    "                    ret, frame = cap.read()\n",
    "                    if not ret:\n",
    "                        break\n",
    "                    filename =r\"/home/kashish/Desktop/Kashish/Projects/FECD/temp/shot\"+str(x)+\".png\"\n",
    "                    x+=1;\n",
    "                    cv2.imwrite(filename.format(count), frame)\n",
    "                    count+=(vid_len/15)*30\n",
    "                    cap.set(1,count)\n",
    "                    if cv2.waitKey(30)&0xFF == ord('q'):\n",
    "                        break\n",
    "                cap.release()\n",
    "\n",
    "        print(str(x)+\" frames obtained successfully\")\n",
    "        print(\"Running Prediction Model\")\n",
    "\n",
    "        images = glob(r\"/home/kashish/Desktop/Kashish/Projects/FECD/temp/*.png\")\n",
    "\n",
    "        for i in range(len(images)):\n",
    "            img = image.load_img(images[i], target_size=(224,224,3))\n",
    "            img = numpy.array(img)\n",
    "            img = img/255\n",
    "            prediction_images.append(img)\n",
    "\n",
    "        prediction_images=numpy.array(prediction_images)\n",
    "        pred=model.predict(prediction_images)\n",
    "        y_pred = numpy.argmax(pred, axis=-1)\n",
    "\n",
    "        for i in range(0,len(y_pred)):\n",
    "            if y_pred[i]==1 and pred[i][1]<=0.95:\n",
    "                y_pred[i]=0\n",
    "        confiporn=[]\n",
    "        confinonporn=[]\n",
    "        for i in range(0,len(y_pred)):\n",
    "            if y_pred[i]==1:\n",
    "                confiporn.append(pred[i][1])\n",
    "            else:\n",
    "                confinonporn.append(pred[i][0])\n",
    "        confiporn=numpy.array(confiporn)\n",
    "        confinonporn=numpy.array(confinonporn)\n",
    "\n",
    "        if(numpy.sum(y_pred)>=math.ceil(10*len(prediction_images)/100)):\n",
    "            prediction=1\n",
    "            confidence=numpy.mean(confiporn)\n",
    "            tab_queue.pop(0)\n",
    "        else:\n",
    "            prediction=0\n",
    "            confidence=numpy.mean(confinonporn)\n",
    "            cur_flag=tab_queue.pop(0)\n",
    "            if(cur_flag not in flag_queue):\n",
    "                flag_queue.append(cur_flag)\n",
    "        confi = numpy.round(confidence*100)\n",
    "\n",
    "        end=time.time()\n",
    "        print(\"Predicted to be of type \"+str(prediction)+\" in \"+str(round(end-start,3))+\" seconds\") \n",
    "\n",
    "        print(\"...for \"+url)\n",
    "        folder=r\"/home/kashish/Desktop/Kashish/Projects/FECD/temp\"\n",
    "        for filename in os.listdir(folder):\n",
    "            file_path = os.path.join(folder, filename)\n",
    "            try:\n",
    "                if os.path.isfile(file_path) or os.path.islink(file_path):\n",
    "                    os.unlink(file_path)\n",
    "                elif os.path.isdir(file_path):\n",
    "                    shutil.rmtree(file_path)\n",
    "            except Exception as e:\n",
    "                print('Failed to delete %s. Reason: %s' % (file_path, e))\n",
    "\n",
    "@app.route('/send_url', methods=['POST'])\n",
    "def send_url():\n",
    "    resp_json = request.get_data()\n",
    "    params = resp_json.decode() \n",
    "    url=params.split(',', 1)[0]\n",
    "    url=url.replace(\"url=\",'')\n",
    "    tabId=params.split(',', 1)[1]\n",
    "    tabId=tabId.replace(\"tab=\",'')\n",
    "    parent_url=url_strip(url)\n",
    "    print(tabId)\n",
    "    if((parent_url==\"www.youtube.com\" and \"watch\" in url) or (parent_url==\"hellporno.com\" and \"videos\" in url)):\n",
    "        print(\"New video player found\")\n",
    "        url_queue.append(url)\n",
    "        tab_queue.append(tabId)\n",
    "        if len(url_queue)==1:\n",
    "            predict()\n",
    "    else:\n",
    "        return jsonify({'message': 'success!'}), 200\n",
    "    \n",
    "@app.route('/quit_url', methods=['POST'])\n",
    "def quit_url():\n",
    "    resp_json = request.get_data()\n",
    "    params = resp_json.decode() \n",
    "    url=params.split(',', 1)[0]\n",
    "    url=url.replace(\"url=\",'')\n",
    "    tabId=params.split(',', 1)[1]\n",
    "    tabId=tabId.replace(\"tab=\",'')\n",
    "    print(\"Url closed: \" +url)\n",
    "    if tabId in flag_queue:\n",
    "        flag_queue.remove(tabId)\n",
    "    return jsonify({'message': 'quit success!'}), 200    \n",
    "\n",
    "@app.route('/blur_player',methods=['GET'])\n",
    "def blur_player():\n",
    "    temp_queue=copy.deepcopy(flag_queue)\n",
    "    flag_queue.clear()\n",
    "    print(temp_queue)\n",
    "    return jsonify(temp_queue)\n",
    "\n",
    "app.run(host='127.0.0.1', port=5000)"
   ]
  },
  {
   "cell_type": "code",
   "execution_count": null,
   "metadata": {},
   "outputs": [],
   "source": []
  }
 ],
 "metadata": {
  "kernelspec": {
   "display_name": "Python 3",
   "language": "python",
   "name": "python3"
  },
  "language_info": {
   "codemirror_mode": {
    "name": "ipython",
    "version": 3
   },
   "file_extension": ".py",
   "mimetype": "text/x-python",
   "name": "python",
   "nbconvert_exporter": "python",
   "pygments_lexer": "ipython3",
   "version": "3.8.5"
  }
 },
 "nbformat": 4,
 "nbformat_minor": 4
}
