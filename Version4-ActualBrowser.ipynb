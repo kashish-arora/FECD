{
 "cells": [
  {
   "cell_type": "code",
   "execution_count": 2,
   "metadata": {},
   "outputs": [
    {
     "name": "stdout",
     "output_type": "stream",
     "text": [
      "Awaiting Video Player\n",
      "ERROR! Session/line number was not unique in database. History logging moved to new session 9\n",
      " * Serving Flask app \"__main__\" (lazy loading)\n",
      " * Environment: production\n",
      "\u001b[31m   WARNING: This is a development server. Do not use it in a production deployment.\u001b[0m\n",
      "\u001b[2m   Use a production WSGI server instead.\u001b[0m\n",
      " * Debug mode: off\n"
     ]
    },
    {
     "name": "stderr",
     "output_type": "stream",
     "text": [
      " * Running on http://127.0.0.1:5000/ (Press CTRL+C to quit)\n",
      "INFO:werkzeug: * Running on http://127.0.0.1:5000/ (Press CTRL+C to quit)\n"
     ]
    },
    {
     "name": "stdout",
     "output_type": "stream",
     "text": [
      "Obtaining new URL\n",
      "https://www.youtube.com/watch?v=W-TE_Ys4iwM\n",
      "134\n",
      "www.youtube.com\n",
      "New video player found\n",
      "Video Player found\n",
      "[youtube] W-TE_Ys4iwM: Downloading webpage\n",
      "Obtaining frames\n",
      "10 frames obtained successfully\n",
      "Running Prediction Model\n"
     ]
    },
    {
     "name": "stderr",
     "output_type": "stream",
     "text": [
      "127.0.0.1 - - [15/Apr/2021 14:01:47] \"\u001b[37mPOST /quit_url HTTP/1.1\u001b[0m\" 200 -\n",
      "INFO:werkzeug:127.0.0.1 - - [15/Apr/2021 14:01:47] \"\u001b[37mPOST /quit_url HTTP/1.1\u001b[0m\" 200 -\n",
      "ERROR:__main__:Exception on /send_url [POST]\n",
      "Traceback (most recent call last):\n",
      "  File \"/home/kashish/anaconda3/lib/python3.8/site-packages/flask/app.py\", line 2447, in wsgi_app\n",
      "    response = self.full_dispatch_request()\n",
      "  File \"/home/kashish/anaconda3/lib/python3.8/site-packages/flask/app.py\", line 1952, in full_dispatch_request\n",
      "    rv = self.handle_user_exception(e)\n",
      "  File \"/home/kashish/anaconda3/lib/python3.8/site-packages/flask/app.py\", line 1821, in handle_user_exception\n",
      "    reraise(exc_type, exc_value, tb)\n",
      "  File \"/home/kashish/anaconda3/lib/python3.8/site-packages/flask/_compat.py\", line 39, in reraise\n",
      "    raise value\n",
      "  File \"/home/kashish/anaconda3/lib/python3.8/site-packages/flask/app.py\", line 1950, in full_dispatch_request\n",
      "    rv = self.dispatch_request()\n",
      "  File \"/home/kashish/anaconda3/lib/python3.8/site-packages/flask/app.py\", line 1936, in dispatch_request\n",
      "    return self.view_functions[rule.endpoint](**req.view_args)\n",
      "  File \"<ipython-input-2-df594c6a7890>\", line 150, in send_url\n",
      "    predict()\n",
      "  File \"<ipython-input-2-df594c6a7890>\", line 123, in predict\n",
      "    for filename in os.listdir(folder):\n",
      "FileNotFoundError: [Errno 2] No such file or directory: 'C:\\\\Users\\\\kashi\\\\Downloads\\\\proj\\\\temp'\n",
      "127.0.0.1 - - [15/Apr/2021 14:01:47] \"\u001b[35m\u001b[1mPOST /send_url HTTP/1.1\u001b[0m\" 500 -\n",
      "INFO:werkzeug:127.0.0.1 - - [15/Apr/2021 14:01:47] \"\u001b[35m\u001b[1mPOST /send_url HTTP/1.1\u001b[0m\" 500 -\n"
     ]
    },
    {
     "name": "stdout",
     "output_type": "stream",
     "text": [
      "0 1\n",
      "Predicted to be of type 0 in 7.6 seconds\n",
      "Url closed: url=https://www.youtube.com/watch?v=W-TE_Ys4iwM\n",
      "Found and closed flagged content\n",
      "...for https://r2---sn-gwpa-a3vy.googlevideo.com/videoplayback?expire=1618497100&ei=7Pl3YMS6IOyHjuMPntGz2AU&ip=2405%3A201%3A5003%3Ab03b%3A1a77%3Af546%3A614%3A2ea5&id=o-AKA5wi-XJPEt7DA3OjNuwaCqNuLgysQ7UEY3pgUDTTzl&itag=278&aitags=133%2C134%2C135%2C136%2C137%2C160%2C242%2C243%2C244%2C247%2C278%2C394%2C395%2C396%2C397%2C398%2C399&source=youtube&requiressl=yes&mh=7D&mm=31%2C29&mn=sn-gwpa-a3vy%2Csn-qxaeen7e&ms=au%2Crdu&mv=m&mvi=2&pl=38&gcr=in&initcwndbps=883750&vprv=1&mime=video%2Fwebm&ns=tHykjFEFkBjAWfDlmeWjM00F&gir=yes&clen=2700666&dur=247.640&lmt=1579864408664193&mt=1618475073&fvip=2&keepalive=yes&fexp=24001373%2C24007246&beids=9466587&c=WEB&txp=5535432&n=Tt25nX9YNEMlo7k&sparams=expire%2Cei%2Cip%2Cid%2Caitags%2Csource%2Crequiressl%2Cgcr%2Cvprv%2Cmime%2Cns%2Cgir%2Cclen%2Cdur%2Clmt&lsparams=mh%2Cmm%2Cmn%2Cms%2Cmv%2Cmvi%2Cpl%2Cinitcwndbps&lsig=AG3C_xAwRQIhALenBtPzjzjzUp6wJXhm1Z1_2B0eLNZ_u0nFT-SNzlAeAiB8Bw9BugBAmtSoJoIvAk_CwaaZhGQWUFVqfWdqhWvG2w%3D%3D&sig=AOq0QJ8wRQIgHXl28Gs4u7cjKL7w8wxlqQ6tiRthWzPRNlJOtp-oBn4CIQCPIGej_rAm97Wn7-_HZHwwuFcVYYLLxRibF8UIaegIgg==\n"
     ]
    },
    {
     "name": "stderr",
     "output_type": "stream",
     "text": [
      "127.0.0.1 - - [15/Apr/2021 14:03:52] \"\u001b[37mPOST /send_url HTTP/1.1\u001b[0m\" 200 -\n",
      "INFO:werkzeug:127.0.0.1 - - [15/Apr/2021 14:03:52] \"\u001b[37mPOST /send_url HTTP/1.1\u001b[0m\" 200 -\n"
     ]
    },
    {
     "name": "stdout",
     "output_type": "stream",
     "text": [
      "Obtaining new URL\n",
      "chrome://newtab/\n",
      "144\n",
      "chrome:\n",
      "Video player either not found or not supported for this path\n"
     ]
    },
    {
     "name": "stderr",
     "output_type": "stream",
     "text": [
      "127.0.0.1 - - [15/Apr/2021 14:03:59] \"\u001b[37mPOST /send_url HTTP/1.1\u001b[0m\" 200 -\n",
      "INFO:werkzeug:127.0.0.1 - - [15/Apr/2021 14:03:59] \"\u001b[37mPOST /send_url HTTP/1.1\u001b[0m\" 200 -\n"
     ]
    },
    {
     "name": "stdout",
     "output_type": "stream",
     "text": [
      "Obtaining new URL\n",
      "https://www.google.co.in/search?sxsrf=ALeKk021A3x6UHJiyGxDcTl3aeXQtoa1-g%3A1615876232111&source=hp&ei=iFBQYKvwA4vz9QOdjpqgBQ&iflsig=AINFCbYAAAAAYFBemImwWTaGUTKqeT4j4uwZrCxwBH1J&q=python+close+tab+with+a+particular+tabid&btnK=Google+Search\n",
      "144\n",
      "www.google.co.in\n",
      "Video player either not found or not supported for this path\n"
     ]
    },
    {
     "name": "stderr",
     "output_type": "stream",
     "text": [
      "127.0.0.1 - - [15/Apr/2021 14:04:05] \"\u001b[37mPOST /send_url HTTP/1.1\u001b[0m\" 200 -\n",
      "INFO:werkzeug:127.0.0.1 - - [15/Apr/2021 14:04:05] \"\u001b[37mPOST /send_url HTTP/1.1\u001b[0m\" 200 -\n"
     ]
    },
    {
     "name": "stdout",
     "output_type": "stream",
     "text": [
      "Obtaining new URL\n",
      "https://stackoverflow.com/questions/29186844/how-to-close-an-internet-tab-with-cmd-python\n",
      "144\n",
      "stackoverflow.com\n",
      "Video player either not found or not supported for this path\n"
     ]
    },
    {
     "name": "stderr",
     "output_type": "stream",
     "text": [
      "127.0.0.1 - - [15/Apr/2021 14:04:44] \"\u001b[37mPOST /send_url HTTP/1.1\u001b[0m\" 200 -\n",
      "INFO:werkzeug:127.0.0.1 - - [15/Apr/2021 14:04:44] \"\u001b[37mPOST /send_url HTTP/1.1\u001b[0m\" 200 -\n"
     ]
    },
    {
     "name": "stdout",
     "output_type": "stream",
     "text": [
      "Obtaining new URL\n",
      "https://www.google.co.in/search?sxsrf=ALeKk021A3x6UHJiyGxDcTl3aeXQtoa1-g%3A1615876232111&source=hp&ei=iFBQYKvwA4vz9QOdjpqgBQ&iflsig=AINFCbYAAAAAYFBemImwWTaGUTKqeT4j4uwZrCxwBH1J&q=python+close+tab+with+a+particular+tabid&btnK=Google+Search\n",
      "144\n",
      "www.google.co.in\n",
      "Video player either not found or not supported for this path\n"
     ]
    },
    {
     "name": "stderr",
     "output_type": "stream",
     "text": [
      "127.0.0.1 - - [15/Apr/2021 14:05:01] \"\u001b[37mPOST /send_url HTTP/1.1\u001b[0m\" 200 -\n",
      "INFO:werkzeug:127.0.0.1 - - [15/Apr/2021 14:05:01] \"\u001b[37mPOST /send_url HTTP/1.1\u001b[0m\" 200 -\n"
     ]
    },
    {
     "name": "stdout",
     "output_type": "stream",
     "text": [
      "Obtaining new URL\n",
      "https://www.google.co.in/search?q=python+close+tab+with+a+particular+id&sxsrf=ALeKk03LgNpz-cFeOz3Xb2XlXpCmudmmwg%3A1618475639662&ei=d_p3YOTvJ8fJrQH2gbPQBA&oq=python+close+tab+with+a+particular+id&gs_lcp=Cgdnd3Mtd2l6EAM6BwgjELADECc6BwgAEEcQsAM6BAgjECc6CAghEBYQHRAeUId0WNN9YM2BAWgBcAJ4AIABzwGIAawJkgEFMC43LjGYAQCgAQGqAQdnd3Mtd2l6yAEJwAEB&sclient=gws-wiz&ved=0ahUKEwikh9HM6__vAhXHZCsKHfbADEoQ4dUDCA4&uact=5\n",
      "144\n",
      "www.google.co.in\n",
      "Video player either not found or not supported for this path\n"
     ]
    },
    {
     "name": "stderr",
     "output_type": "stream",
     "text": [
      "127.0.0.1 - - [15/Apr/2021 14:05:32] \"\u001b[37mPOST /send_url HTTP/1.1\u001b[0m\" 200 -\n",
      "INFO:werkzeug:127.0.0.1 - - [15/Apr/2021 14:05:32] \"\u001b[37mPOST /send_url HTTP/1.1\u001b[0m\" 200 -\n"
     ]
    },
    {
     "name": "stdout",
     "output_type": "stream",
     "text": [
      "Obtaining new URL\n",
      "https://www.google.co.in/search?q=python+close+chrome+tab+with+a+particular+id&sxsrf=ALeKk00L_LOkGnjPaC1GGj7-Bgqb7Sfl_A%3A1618475701525&ei=tfp3YP7PH8GFyAO21aygAQ&oq=python+close+chrome+tab+with+a+particular+id&gs_lcp=Cgdnd3Mtd2l6EAM6BwgAEEcQsAM6BwgjELACECdQqeUBWLDrAWDB7QFoAXACeACAAesBiAG2CpIBBTAuNS4zmAEAoAEBqgEHZ3dzLXdpesgBCMABAQ&sclient=gws-wiz&ved=0ahUKEwi-_pDq6__vAhXBAnIKHbYqCxQQ4dUDCA4&uact=5\n",
      "144\n",
      "www.google.co.in\n",
      "Video player either not found or not supported for this path\n"
     ]
    },
    {
     "name": "stderr",
     "output_type": "stream",
     "text": [
      "127.0.0.1 - - [15/Apr/2021 14:06:32] \"\u001b[37mPOST /send_url HTTP/1.1\u001b[0m\" 200 -\n",
      "INFO:werkzeug:127.0.0.1 - - [15/Apr/2021 14:06:32] \"\u001b[37mPOST /send_url HTTP/1.1\u001b[0m\" 200 -\n"
     ]
    },
    {
     "name": "stdout",
     "output_type": "stream",
     "text": [
      "Obtaining new URL\n",
      "https://www.youtube.com/?gl=IN\n",
      "150\n",
      "www.youtube.com\n",
      "Video player either not found or not supported for this path\n"
     ]
    },
    {
     "name": "stderr",
     "output_type": "stream",
     "text": [
      "127.0.0.1 - - [15/Apr/2021 14:06:33] \"\u001b[37mPOST /send_url HTTP/1.1\u001b[0m\" 200 -\n",
      "INFO:werkzeug:127.0.0.1 - - [15/Apr/2021 14:06:33] \"\u001b[37mPOST /send_url HTTP/1.1\u001b[0m\" 200 -\n"
     ]
    },
    {
     "name": "stdout",
     "output_type": "stream",
     "text": [
      "Obtaining new URL\n",
      "https://www.youtube.com/\n",
      "150\n",
      "www.youtube.com\n",
      "Video player either not found or not supported for this path\n",
      "Obtaining new URL\n",
      "https://www.youtube.com/watch?v=cdG-VkY9XmA\n",
      "150\n",
      "www.youtube.com\n",
      "New video player found\n",
      "Video Player found\n",
      "[youtube] cdG-VkY9XmA: Downloading webpage\n",
      "Obtaining frames\n",
      "10 frames obtained successfully\n",
      "Running Prediction Model\n"
     ]
    },
    {
     "name": "stderr",
     "output_type": "stream",
     "text": [
      "127.0.0.1 - - [15/Apr/2021 14:06:52] \"\u001b[37mPOST /quit_url HTTP/1.1\u001b[0m\" 200 -\n",
      "INFO:werkzeug:127.0.0.1 - - [15/Apr/2021 14:06:52] \"\u001b[37mPOST /quit_url HTTP/1.1\u001b[0m\" 200 -\n",
      "ERROR:__main__:Exception on /send_url [POST]\n",
      "Traceback (most recent call last):\n",
      "  File \"/home/kashish/anaconda3/lib/python3.8/site-packages/flask/app.py\", line 2447, in wsgi_app\n",
      "    response = self.full_dispatch_request()\n",
      "  File \"/home/kashish/anaconda3/lib/python3.8/site-packages/flask/app.py\", line 1952, in full_dispatch_request\n",
      "    rv = self.handle_user_exception(e)\n",
      "  File \"/home/kashish/anaconda3/lib/python3.8/site-packages/flask/app.py\", line 1821, in handle_user_exception\n",
      "    reraise(exc_type, exc_value, tb)\n",
      "  File \"/home/kashish/anaconda3/lib/python3.8/site-packages/flask/_compat.py\", line 39, in reraise\n",
      "    raise value\n",
      "  File \"/home/kashish/anaconda3/lib/python3.8/site-packages/flask/app.py\", line 1950, in full_dispatch_request\n",
      "    rv = self.dispatch_request()\n",
      "  File \"/home/kashish/anaconda3/lib/python3.8/site-packages/flask/app.py\", line 1936, in dispatch_request\n",
      "    return self.view_functions[rule.endpoint](**req.view_args)\n",
      "  File \"<ipython-input-2-df594c6a7890>\", line 150, in send_url\n",
      "    predict()\n",
      "  File \"<ipython-input-2-df594c6a7890>\", line 123, in predict\n",
      "    for filename in os.listdir(folder):\n",
      "FileNotFoundError: [Errno 2] No such file or directory: 'C:\\\\Users\\\\kashi\\\\Downloads\\\\proj\\\\temp'\n",
      "127.0.0.1 - - [15/Apr/2021 14:06:52] \"\u001b[35m\u001b[1mPOST /send_url HTTP/1.1\u001b[0m\" 500 -\n",
      "INFO:werkzeug:127.0.0.1 - - [15/Apr/2021 14:06:52] \"\u001b[35m\u001b[1mPOST /send_url HTTP/1.1\u001b[0m\" 500 -\n"
     ]
    },
    {
     "name": "stdout",
     "output_type": "stream",
     "text": [
      "0 1\n",
      "Predicted to be of type 0 in 4.025 seconds\n",
      "Url closed: url=https://www.youtube.com/watch?v=cdG-VkY9XmA\n",
      "Found and closed flagged content\n",
      "...for https://r7---sn-gwpa-a3ve.googlevideo.com/videoplayback?expire=1618497408&ei=IPt3YP3yDsv-4-EPzcWB2A0&ip=2405%3A201%3A5003%3Ab03b%3A1a77%3Af546%3A614%3A2ea5&id=o-AL9lt51fQl6Lg8FM6nfGkg9amqsjvdMB_UWXgPcLiZlP&itag=278&aitags=133%2C134%2C135%2C136%2C137%2C160%2C242%2C243%2C244%2C247%2C248%2C278%2C394%2C395%2C396%2C397%2C398%2C399&source=youtube&requiressl=yes&mh=lw&mm=31%2C29&mn=sn-gwpa-a3ve%2Csn-qxa7sn7r&ms=au%2Crdu&mv=m&mvi=7&pl=38&gcr=in&initcwndbps=767500&vprv=1&mime=video%2Fwebm&ns=gGi-mB3T9S_QWg1DNNm_PT8F&gir=yes&clen=2136726&dur=192.520&lmt=1575726887318340&mt=1618475325&fvip=1&keepalive=yes&fexp=24001373%2C24007246&c=WEB&txp=5431432&n=0a3RuScSRwOy6vx&sparams=expire%2Cei%2Cip%2Cid%2Caitags%2Csource%2Crequiressl%2Cgcr%2Cvprv%2Cmime%2Cns%2Cgir%2Cclen%2Cdur%2Clmt&lsparams=mh%2Cmm%2Cmn%2Cms%2Cmv%2Cmvi%2Cpl%2Cinitcwndbps&lsig=AG3C_xAwRAIgJU8MpxfBwzUyH5DR7t8nDe4McCjfdCvYIXPYjoXS5NYCIEAI-9HT8m7gLZfxFk_8LRw1sxzj9gapkaMyajMECvAO&sig=AOq0QJ8wRAIgGLOL4X-PzdTMRzAzQ-Zd1UYM91Fnq_1fHVTTgmfxrUsCIHeP-wulAmthA-g_ZVqsee_0yDW27wqv94Lqe7tXyzac\n"
     ]
    },
    {
     "name": "stderr",
     "output_type": "stream",
     "text": [
      "127.0.0.1 - - [15/Apr/2021 14:07:20] \"\u001b[37mPOST /send_url HTTP/1.1\u001b[0m\" 200 -\n",
      "INFO:werkzeug:127.0.0.1 - - [15/Apr/2021 14:07:20] \"\u001b[37mPOST /send_url HTTP/1.1\u001b[0m\" 200 -\n"
     ]
    },
    {
     "name": "stdout",
     "output_type": "stream",
     "text": [
      "Obtaining new URL\n",
      "chrome://newtab/\n",
      "156\n",
      "chrome:\n",
      "Video player either not found or not supported for this path\n"
     ]
    },
    {
     "name": "stderr",
     "output_type": "stream",
     "text": [
      "127.0.0.1 - - [15/Apr/2021 14:07:27] \"\u001b[37mPOST /send_url HTTP/1.1\u001b[0m\" 200 -\n",
      "INFO:werkzeug:127.0.0.1 - - [15/Apr/2021 14:07:27] \"\u001b[37mPOST /send_url HTTP/1.1\u001b[0m\" 200 -\n"
     ]
    },
    {
     "name": "stdout",
     "output_type": "stream",
     "text": [
      "Obtaining new URL\n",
      "https://www.google.co.in/search?sxsrf=ALeKk021A3x6UHJiyGxDcTl3aeXQtoa1-g%3A1615876232111&source=hp&ei=iFBQYKvwA4vz9QOdjpqgBQ&iflsig=AINFCbYAAAAAYFBemImwWTaGUTKqeT4j4uwZrCxwBH1J&q=switch+to+a+particular+tab+python&btnK=Google+Search\n",
      "156\n",
      "www.google.co.in\n",
      "Video player either not found or not supported for this path\n"
     ]
    },
    {
     "name": "stderr",
     "output_type": "stream",
     "text": [
      "127.0.0.1 - - [15/Apr/2021 14:07:36] \"\u001b[37mPOST /send_url HTTP/1.1\u001b[0m\" 200 -\n",
      "INFO:werkzeug:127.0.0.1 - - [15/Apr/2021 14:07:36] \"\u001b[37mPOST /send_url HTTP/1.1\u001b[0m\" 200 -\n"
     ]
    },
    {
     "name": "stdout",
     "output_type": "stream",
     "text": [
      "Obtaining new URL\n",
      "https://www.google.co.in/search?q=switch+to+a+particular+chrome+tab+python&sxsrf=ALeKk00HwKkxGpXgCVlwWFkOtgelgm3hiA%3A1618475847438&ei=R_t3YM2gGofVrtoP2d2v2AI&oq=switch+to+a+particular+chrome+tab+python&gs_lcp=Cgdnd3Mtd2l6EAM6BwgAEEcQsANQwDdY1zxg7T5oAnACeACAAfwBiAGeC5IBBTAuNi4ymAEAoAEBqgEHZ3dzLXdpesgBCMABAQ&sclient=gws-wiz&ved=0ahUKEwiN4Nqv7P_vAhWHqksFHdnuCysQ4dUDCA4&uact=5\n",
      "156\n",
      "www.google.co.in\n",
      "Video player either not found or not supported for this path\n"
     ]
    },
    {
     "name": "stderr",
     "output_type": "stream",
     "text": [
      "127.0.0.1 - - [15/Apr/2021 14:07:46] \"\u001b[37mPOST /send_url HTTP/1.1\u001b[0m\" 200 -\n",
      "INFO:werkzeug:127.0.0.1 - - [15/Apr/2021 14:07:46] \"\u001b[37mPOST /send_url HTTP/1.1\u001b[0m\" 200 -\n"
     ]
    },
    {
     "name": "stdout",
     "output_type": "stream",
     "text": [
      "Obtaining new URL\n",
      "https://www.google.co.in/search?q=switch+to+a+particular+chrome+tab+python+without+selenium&sxsrf=ALeKk03LrrEDdWAUVND0HacRxtVXPYTcGg%3A1618475856613&ei=UPt3YNb-JNK6rQHk5b7wDw&oq=switch+to+a+particular+chrome+tab+python+without+selenium&gs_lcp=Cgdnd3Mtd2l6EAMyCAghEBYQHRAeOgcIABBHELADOgUIIRCgAToECCEQFVDrIlifOWClOmgBcAJ4AIAB4AGIAcIVkgEGMC4xNi4xmAEAoAEBqgEHZ3dzLXdpesgBCMABAQ&sclient=gws-wiz&ved=0ahUKEwjW5oq07P_vAhVSXSsKHeSyD_4Q4dUDCA4&uact=5\n",
      "156\n",
      "www.google.co.in\n",
      "Video player either not found or not supported for this path\n"
     ]
    },
    {
     "name": "stderr",
     "output_type": "stream",
     "text": [
      "127.0.0.1 - - [15/Apr/2021 14:07:56] \"\u001b[37mPOST /quit_url HTTP/1.1\u001b[0m\" 200 -\n",
      "INFO:werkzeug:127.0.0.1 - - [15/Apr/2021 14:07:56] \"\u001b[37mPOST /quit_url HTTP/1.1\u001b[0m\" 200 -\n"
     ]
    },
    {
     "name": "stdout",
     "output_type": "stream",
     "text": [
      "Url closed: url=undefined\n"
     ]
    },
    {
     "name": "stderr",
     "output_type": "stream",
     "text": [
      "127.0.0.1 - - [15/Apr/2021 14:08:02] \"\u001b[37mPOST /quit_url HTTP/1.1\u001b[0m\" 200 -\n",
      "INFO:werkzeug:127.0.0.1 - - [15/Apr/2021 14:08:02] \"\u001b[37mPOST /quit_url HTTP/1.1\u001b[0m\" 200 -\n"
     ]
    },
    {
     "name": "stdout",
     "output_type": "stream",
     "text": [
      "Url closed: url=https://www.google.co.in/search?q=switch+to+a+particular+chrome+tab+python+without+selenium&sxsrf=ALeKk03LrrEDdWAUVND0HacRxtVXPYTcGg%3A1618475856613&ei=UPt3YNb-JNK6rQHk5b7wDw&oq=switch+to+a+particular+chrome+tab+python+without+selenium&gs_lcp=Cgdnd3Mtd2l6EAMyCAghEBYQHRAeOgcIABBHELADOgUIIRCgAToECCEQFVDrIlifOWClOmgBcAJ4AIAB4AGIAcIVkgEGMC4xNi4xmAEAoAEBqgEHZ3dzLXdpesgBCMABAQ&sclient=gws-wiz&ved=0ahUKEwjW5oq07P_vAhVSXSsKHeSyD_4Q4dUDCA4&uact=5\n"
     ]
    }
   ],
   "source": [
    "import tkinter as tk\n",
    "from tkinter import filedialog\n",
    "from tkinter import *\n",
    "from PIL import ImageTk, Image\n",
    "import numpy as np\n",
    "from tensorflow.keras.models import load_model\n",
    "import cv2\n",
    "import os, shutil\n",
    "from glob import glob\n",
    "import math\n",
    "import tqdm\n",
    "import tensorflowjs as tfjs\n",
    "import numpy\n",
    "from tensorflow.keras.preprocessing import image\n",
    "from sklearn.metrics import accuracy_score\n",
    "import sys\n",
    "from tensorflow.keras.applications import EfficientNetB0\n",
    "import efficientnet.keras as efn\n",
    "import re\n",
    "import youtube_dl\n",
    "from flask import Flask, jsonify, request\n",
    "import time\n",
    "import pyautogui\n",
    "\n",
    "app=Flask(__name__)\n",
    "print(\"Awaiting Video Player\")\n",
    "model=load_model(r'/home/kashish/Desktop/FECD/NPDIv3fullofull.12-0.17.h5')\n",
    "saved_url=\"\"\n",
    "url_queue=[]\n",
    "tab_queue=[]\n",
    "flag_queue=[]\n",
    "\n",
    "def url_changed(saved_url):\n",
    "    wait.until(\n",
    "        lambda driver: driver.current_url!=saved_url)\n",
    "    return True;\n",
    "\n",
    "def url_strip(url):\n",
    "    if \"http://\" in url or \"https://\" in url:\n",
    "        url = url.replace(\"https://\", '').replace(\"http://\", '').replace('\\\"', '')\n",
    "    if \"/\" in url:\n",
    "        url = url.split('/', 1)[0]\n",
    "    return url\n",
    "\n",
    "def predict():\n",
    "    while len(url_queue):\n",
    "        video_url=url_queue.pop(0)\n",
    "        prediction_images=[]\n",
    "        print(\"Video Player found\")\n",
    "        start = time.time()\n",
    "        ydl_opts={}\n",
    "        ydl=youtube_dl.YoutubeDL(ydl_opts)\n",
    "        info_dict=ydl.extract_info(video_url, download=False)\n",
    "        formats=info_dict.get('formats',None)\n",
    "\n",
    "        print(\"Obtaining frames\")\n",
    "        for f in formats:\n",
    "            if f.get('format_note',None) == '144p':\n",
    "                url = f.get('url',None)\n",
    "                cap = cv2.VideoCapture(url)\n",
    "                if not cap.isOpened():\n",
    "                    print('video not opened')\n",
    "                    exit(-1)\n",
    "                x=0\n",
    "                count=0\n",
    "                while x<10:\n",
    "                    ret, frame = cap.read()\n",
    "                    if not ret:\n",
    "                        break\n",
    "                    filename =r\"/home/kashish/Desktop/FECD/temp/shot\"+str(x)+\".png\"\n",
    "                    x+=1\n",
    "                    cv2.imwrite(filename.format(count), frame)\n",
    "                    count+=100\n",
    "                    cap.set(1,count)\n",
    "                    if cv2.waitKey(30)&0xFF == ord('q'):\n",
    "                        break\n",
    "                cap.release()\n",
    "\n",
    "        print(str(x)+\" frames obtained successfully\")\n",
    "        print(\"Running Prediction Model\")\n",
    "\n",
    "        images = glob(r\"/home/kashish/Desktop/FECD/temp/*.png\")\n",
    "\n",
    "        for i in range(len(images)):\n",
    "            img = image.load_img(images[i], target_size=(224,224,3))\n",
    "            img = numpy.array(img)\n",
    "            img = img/255\n",
    "            prediction_images.append(img)\n",
    "\n",
    "        prediction_images=numpy.array(prediction_images)\n",
    "        pred=model.predict(prediction_images)\n",
    "        y_pred = numpy.argmax(pred, axis=-1)\n",
    "\n",
    "        for i in range(0,len(y_pred)):\n",
    "            if y_pred[i]==1 and pred[i][1]<=0.95:\n",
    "                y_pred[i]=0\n",
    "        print(numpy.sum(y_pred),math.ceil(10*len(prediction_images)/100))\n",
    "        confiporn=[]\n",
    "        confinonporn=[]\n",
    "        for i in range(0,len(y_pred)):\n",
    "            if y_pred[i]==1:\n",
    "                confiporn.append(pred[i][1])\n",
    "            else:\n",
    "                confinonporn.append(pred[i][0])\n",
    "        confiporn=numpy.array(confiporn)\n",
    "        confinonporn=numpy.array(confinonporn)\n",
    "\n",
    "        if(numpy.sum(y_pred)>=math.ceil(10*len(prediction_images)/100)):\n",
    "            prediction=1\n",
    "            confidence=numpy.mean(confiporn)\n",
    "            flag_queue.append(tab_queue.pop(0))\n",
    "        else:\n",
    "            prediction=0\n",
    "            confidence=numpy.mean(confinonporn)\n",
    "            tab_queue.pop(0)\n",
    "        confi = numpy.round(confidence*100)\n",
    "\n",
    "        end=time.time()\n",
    "        print(\"Predicted to be of type \"+str(prediction)+\" in \"+str(round(end-start,3))+\" seconds\") \n",
    "\n",
    "        print(\"...for \"+url)\n",
    "        folder=r\"/home/kashish/Desktop/FECD/temp\"\n",
    "        for filename in os.listdir(folder):\n",
    "            file_path = os.path.join(folder, filename)\n",
    "            try:\n",
    "                if os.path.isfile(file_path) or os.path.islink(file_path):\n",
    "                    os.unlink(file_path)\n",
    "                elif os.path.isdir(file_path):\n",
    "                    shutil.rmtree(file_path)\n",
    "            except Exception as e:\n",
    "                print('Failed to delete %s. Reason: %s' % (file_path, e))\n",
    "\n",
    "@app.route('/send_url', methods=['POST'])\n",
    "def send_url():\n",
    "    resp_json = request.get_data()\n",
    "    params = resp_json.decode()\n",
    "    print(\"Obtaining new URL\")\n",
    "    url=params.split(',', 1)[0]\n",
    "    url=url.replace(\"url=\",'')\n",
    "    tabId=params.split(',', 1)[1]\n",
    "    tabId=tabId.replace(\"tab=\",'')\n",
    "    parent_url=url_strip(url)\n",
    "    print(parent_url)\n",
    "    if(parent_url==\"www.youtube.com\" and \"watch\" in url):\n",
    "        print(\"New video player found\")\n",
    "        url_queue.append(url)\n",
    "        tab_queue.append(tabId)\n",
    "        if len(url_queue)==1:\n",
    "            predict()\n",
    "    else:\n",
    "        print(\"Video player either not found or not supported for this path\")\n",
    "    return jsonify({'message': 'success!'}), 200\n",
    "    \n",
    "@app.route('/quit_url', methods=['POST'])\n",
    "def quit_url():\n",
    "    resp_json = request.get_data()\n",
    "    print(\"Url closed: \" + resp_json.decode())\n",
    "    return jsonify({'message': 'quit success!'}), 200    \n",
    "\n",
    "@app.route('/blur_player',methods=['GET'])\n",
    "def blur_player():\n",
    "    return jsonify(flag_queue);\n",
    "\n",
    "app.run(host='127.0.0.1', port=5000)"
   ]
  },
  {
   "cell_type": "code",
   "execution_count": null,
   "metadata": {},
   "outputs": [],
   "source": []
  }
 ],
 "metadata": {
  "kernelspec": {
   "display_name": "Python 3",
   "language": "python",
   "name": "python3"
  },
  "language_info": {
   "codemirror_mode": {
    "name": "ipython",
    "version": 3
   },
   "file_extension": ".py",
   "mimetype": "text/x-python",
   "name": "python",
   "nbconvert_exporter": "python",
   "pygments_lexer": "ipython3",
   "version": "3.8.5"
  }
 },
 "nbformat": 4,
 "nbformat_minor": 4
}
