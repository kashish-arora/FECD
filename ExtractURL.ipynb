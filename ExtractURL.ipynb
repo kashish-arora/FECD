{
 "cells": [
  {
   "cell_type": "code",
   "execution_count": 2,
   "metadata": {},
   "outputs": [
    {
     "name": "stdout",
     "output_type": "stream",
     "text": [
      "http://localhost:8888/notebooks/ExtractURL.ipynb\n"
     ]
    }
   ],
   "source": [
    "import pyautogui\n",
    "import clipboard\n",
    "import time\n",
    "\n",
    "time.sleep(3)\n",
    "pyautogui.press('f6')\n",
    "pyautogui.hotkey('ctrl', 'c') # for copying the selected url\n",
    "url = clipboard.paste()\n",
    "pyautogui.press('f6')\n",
    "pyautogui.press('f6')\n",
    "pyautogui.press('f6')\n",
    "print(url)"
   ]
  },
  {
   "cell_type": "code",
   "execution_count": null,
   "metadata": {},
   "outputs": [],
   "source": []
  },
  {
   "cell_type": "code",
   "execution_count": null,
   "metadata": {},
   "outputs": [],
   "source": []
  }
 ],
 "metadata": {
  "kernelspec": {
   "display_name": "Python 3",
   "language": "python",
   "name": "python3"
  },
  "language_info": {
   "codemirror_mode": {
    "name": "ipython",
    "version": 3
   },
   "file_extension": ".py",
   "mimetype": "text/x-python",
   "name": "python",
   "nbconvert_exporter": "python",
   "pygments_lexer": "ipython3",
   "version": "3.8.5"
  }
 },
 "nbformat": 4,
 "nbformat_minor": 4
}
