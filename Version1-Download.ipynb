{
 "cells": [
  {
   "cell_type": "code",
   "execution_count": 1,
   "metadata": {},
   "outputs": [],
   "source": [
    "from selenium import webdriver\n",
    "import time\n",
    "import ssl\n",
    "ssl._create_default_https_context = ssl._create_unverified_context"
   ]
  },
  {
   "cell_type": "code",
   "execution_count": 2,
   "metadata": {},
   "outputs": [],
   "source": [
    "import tkinter as tk\n",
    "from tkinter import filedialog\n",
    "from tkinter import *\n",
    "from PIL import ImageTk, Image\n",
    "import numpy\n",
    "from tensorflow.keras.models import load_model\n",
    "import cv2\n",
    "import os\n",
    "from glob import glob\n",
    "import math\n",
    "import tqdm\n",
    "import tensorflowjs as tfjs\n",
    "import numpy\n",
    "import pandas\n",
    "from tensorflow.keras.preprocessing import image\n",
    "from sklearn.metrics import accuracy_score\n",
    "import sys\n",
    "from tensorflow.keras.applications import EfficientNetB0\n",
    "import efficientnet.keras as efn\n",
    "import re\n",
    "import time\n",
    "import ffmpeg\n",
    "import youtube_dl"
   ]
  },
  {
   "cell_type": "code",
   "execution_count": 17,
   "metadata": {},
   "outputs": [],
   "source": [
    "model=load_model(r'C:\\Users\\kashi\\Downloads\\proj\\NPDIv3fullofull.12-0.17.h5')"
   ]
  },
  {
   "cell_type": "code",
   "execution_count": 12,
   "metadata": {},
   "outputs": [],
   "source": [
    "driver=webdriver.Chrome(executable_path=r\"C:\\Users\\kashi\\go\\chromedriver.exe\")\n",
    "driver.maximize_window()"
   ]
  },
  {
   "cell_type": "code",
   "execution_count": 13,
   "metadata": {},
   "outputs": [
    {
     "name": "stdout",
     "output_type": "stream",
     "text": [
      "https://www.youtube.com/watch?v=_8ZVl2x-euA\n"
     ]
    }
   ],
   "source": [
    "url=driver.current_url\n",
    "print(url)"
   ]
  },
  {
   "cell_type": "code",
   "execution_count": 15,
   "metadata": {},
   "outputs": [
    {
     "name": "stdout",
     "output_type": "stream",
     "text": [
      "[youtube] _8ZVl2x-euA: Downloading webpage\n",
      "[download] Destination: C:\\Users\\kashi\\Downloads\\proj\\vid\\inpt.mp4\n",
      "[download] 100% of 13.22MiB in 00:04                   \n"
     ]
    }
   ],
   "source": [
    "ydl_opts = {'outtmpl': r'C:\\Users\\kashi\\Downloads\\proj\\vid\\inpt.mp4',}\n",
    "with youtube_dl.YoutubeDL(ydl_opts) as ydl:\n",
    "    ydl.download([url])"
   ]
  },
  {
   "cell_type": "code",
   "execution_count": 19,
   "metadata": {},
   "outputs": [],
   "source": [
    "predictions=[]\n",
    "filecount=0"
   ]
  },
  {
   "cell_type": "code",
   "execution_count": 20,
   "metadata": {
    "scrolled": true
   },
   "outputs": [
    {
     "name": "stderr",
     "output_type": "stream",
     "text": [
      "\r",
      "  0%|          | 0/1 [00:00<?, ?it/s]"
     ]
    },
    {
     "name": "stdout",
     "output_type": "stream",
     "text": [
      "inpt.mp4\n",
      "25.0\n"
     ]
    },
    {
     "name": "stderr",
     "output_type": "stream",
     "text": [
      "100%|██████████| 1/1 [00:36<00:00, 36.63s/it]"
     ]
    },
    {
     "name": "stdout",
     "output_type": "stream",
     "text": [
      "0 13\n"
     ]
    },
    {
     "name": "stderr",
     "output_type": "stream",
     "text": [
      "\n"
     ]
    }
   ],
   "source": [
    "for file in tqdm.tqdm(os.listdir(r\"C:\\Users\\kashi\\Downloads\\proj\\vid\")):\n",
    "\n",
    "    print(file)\n",
    "    \n",
    "    count = 0\n",
    "    cap = cv2.VideoCapture(r'C:\\Users\\kashi\\Downloads\\proj\\vid\\\\'+file)   # capturing the video from the given path\n",
    "    frameRate = cap.get(5) #frame rate\n",
    "    print(frameRate)\n",
    "    #x=1\n",
    "    # removing all other files from the temp folder\n",
    "    files = glob('temp/*')\n",
    "    for f in files:\n",
    "        os.remove(f)\n",
    "    while(cap.isOpened()):\n",
    "        frameId = cap.get(1) #current frame number\n",
    "        ret, frame = cap.read()\n",
    "        if (ret != True):\n",
    "            break\n",
    "        if (frameId % math.floor(frameRate) == 0):\n",
    "            # storing the frames of this particular video in temp folder\n",
    "            filename =r\"C:\\Users\\kashi\\Downloads\\proj\\temp\\\\\" + \"frame%d.jpg\" % count;count+=1\n",
    "            cv2.imwrite(filename, frame)\n",
    "    cap.release()\n",
    "    \n",
    "    # reading all the frames from temp folder\n",
    "    images = glob(r\"C:\\Users\\kashi\\Downloads\\proj\\temp\\*.jpg\")\n",
    "    prediction_images = []\n",
    "    for i in range(len(images)):\n",
    "        img = image.load_img(images[i], target_size=(224,224,3))\n",
    "        img = numpy.array(img)\n",
    "        img = img/255\n",
    "        prediction_images.append(img)\n",
    "\n",
    "    prediction_images=numpy.array(prediction_images)\n",
    "    pred=model.predict(prediction_images)\n",
    "    y_pred = numpy.argmax(pred, axis=-1)\n",
    "   \n",
    "    for i in range(0,len(y_pred)):\n",
    "        if y_pred[i]==1 and pred[i][1]<=0.95:\n",
    "            y_pred[i]=0\n",
    "    print(numpy.sum(y_pred),math.ceil(10*len(prediction_images)/100))\n",
    "    confiporn=[]\n",
    "    confinonporn=[]\n",
    "    for i in range(0,len(y_pred)):\n",
    "    \tif y_pred[i]==1:\n",
    "            \n",
    "    \t\tconfiporn.append(pred[i][1])\n",
    "    \telse:\n",
    "    \t\tconfinonporn.append(pred[i][0])\n",
    "    confiporn=numpy.array(confiporn)\n",
    "    confinonporn=numpy.array(confinonporn)\n",
    "\n",
    "    \n",
    "    if(numpy.sum(y_pred)>=math.ceil(10*len(prediction_images)/100)):\n",
    "    \tpredictions.append(1)\n",
    "\n",
    "    \tconfidence=numpy.mean(confiporn)\n",
    "    else:\n",
    "    \tpredictions.append(0)\n",
    "    \tconfidence=numpy.mean(confinonporn)\n",
    "    confi = numpy.round(confidence*100)\n",
    "    filecount+=1\n",
    "    \n"
   ]
  },
  {
   "cell_type": "code",
   "execution_count": 21,
   "metadata": {},
   "outputs": [
    {
     "name": "stdout",
     "output_type": "stream",
     "text": [
      "[0]\n"
     ]
    }
   ],
   "source": [
    "print(predictions)"
   ]
  },
  {
   "cell_type": "code",
   "execution_count": null,
   "metadata": {},
   "outputs": [],
   "source": [
    "predictions=numpy.array(predictions)\n",
    "actual=numpy.zeros(filecount)\n",
    "print(accuracy_score(predictions,actual))"
   ]
  },
  {
   "cell_type": "code",
   "execution_count": 22,
   "metadata": {},
   "outputs": [],
   "source": [
    "if predictions[0]==0:\n",
    "    driver.execute_script(\"document.getElementById('player').style.filter='blur(100px)';\")"
   ]
  }
 ],
 "metadata": {
  "kernelspec": {
   "display_name": "Python 3",
   "language": "python",
   "name": "python3"
  },
  "language_info": {
   "codemirror_mode": {
    "name": "ipython",
    "version": 3
   },
   "file_extension": ".py",
   "mimetype": "text/x-python",
   "name": "python",
   "nbconvert_exporter": "python",
   "pygments_lexer": "ipython3",
   "version": "3.8.5"
  }
 },
 "nbformat": 4,
 "nbformat_minor": 4
}
